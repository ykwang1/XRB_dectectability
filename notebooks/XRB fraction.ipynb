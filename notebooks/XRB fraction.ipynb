{
 "cells": [
  {
   "cell_type": "code",
   "execution_count": null,
   "metadata": {},
   "outputs": [],
   "source": [
    "import numpy as np\n",
    "import matplotlib.pyplot as plt\n",
    "import pandas as pd\n",
    "import astropy.units as u\n",
    "from scipy.interpolate import interp1d"
   ]
  },
  {
   "cell_type": "code",
   "execution_count": null,
   "metadata": {},
   "outputs": [],
   "source": [
    "from astropy.io import fits\n",
    "from astropy.coordinates import SkyCoord\n",
    "from astropy.table import Table\n",
    "from astroquery.simbad import Simbad"
   ]
  },
  {
   "cell_type": "code",
   "execution_count": 275,
   "metadata": {},
   "outputs": [],
   "source": [
    "data_dir = \"/epyc/data/\""
   ]
  },
  {
   "cell_type": "code",
   "execution_count": 9,
   "metadata": {},
   "outputs": [],
   "source": [
    "bc = pd.read_csv('../data/BlackCATscrape.csv')"
   ]
  },
  {
   "cell_type": "code",
   "execution_count": 17,
   "metadata": {
    "scrolled": true
   },
   "outputs": [
    {
     "data": {
      "text/html": [
       "<div>\n",
       "<style scoped>\n",
       "    .dataframe tbody tr th:only-of-type {\n",
       "        vertical-align: middle;\n",
       "    }\n",
       "\n",
       "    .dataframe tbody tr th {\n",
       "        vertical-align: top;\n",
       "    }\n",
       "\n",
       "    .dataframe thead th {\n",
       "        text-align: right;\n",
       "    }\n",
       "</style>\n",
       "<table border=\"1\" class=\"dataframe\">\n",
       "  <thead>\n",
       "    <tr style=\"text-align: right;\">\n",
       "      <th></th>\n",
       "      <th>ID</th>\n",
       "      <th>Name \\n(Counterpart)</th>\n",
       "      <th>RA \\n[hh:mm:ss]</th>\n",
       "      <th>DEC \\n[dd:mm:ss]</th>\n",
       "      <th>ℓ\\n[deg]</th>\n",
       "      <th>b \\n[deg]</th>\n",
       "      <th>Magnitude\\nOutburst (AB)</th>\n",
       "      <th>Mag. \\nQuies. (AB)</th>\n",
       "      <th>d \\n[kpc]</th>\n",
       "      <th>fxpeak\\n[2-10] keV\\n[erg s-1 cm-2]</th>\n",
       "      <th>Porb \\n[h]</th>\n",
       "    </tr>\n",
       "  </thead>\n",
       "  <tbody>\n",
       "    <tr>\n",
       "      <th>0</th>\n",
       "      <td>68</td>\n",
       "      <td>MAXI J1803-298</td>\n",
       "      <td>18:03:03</td>\n",
       "      <td>-29:49:50</td>\n",
       "      <td>1.147184</td>\n",
       "      <td>-3.727514</td>\n",
       "      <td>i'=16.01±0.01</td>\n",
       "      <td>NaN</td>\n",
       "      <td>NaN</td>\n",
       "      <td>3.960000e-09</td>\n",
       "      <td>NaN</td>\n",
       "    </tr>\n",
       "    <tr>\n",
       "      <th>1</th>\n",
       "      <td>67</td>\n",
       "      <td>AT2019wey \\nSRGA J043520.9+552226 = ZTF19acwrvzk</td>\n",
       "      <td>4:35:23</td>\n",
       "      <td>55:22:34</td>\n",
       "      <td>151.161130</td>\n",
       "      <td>5.299730</td>\n",
       "      <td>r’=17.40±0.05</td>\n",
       "      <td>i’≥24.1</td>\n",
       "      <td>&gt;1</td>\n",
       "      <td>2.400000e-08</td>\n",
       "      <td>&lt;8.2</td>\n",
       "    </tr>\n",
       "    <tr>\n",
       "      <th>2</th>\n",
       "      <td>66</td>\n",
       "      <td>MAXI J0637-430</td>\n",
       "      <td>6:36:24</td>\n",
       "      <td>-42:52:05</td>\n",
       "      <td>251.532037</td>\n",
       "      <td>-20.674739</td>\n",
       "      <td>r’=15.80±0.01</td>\n",
       "      <td>i’&gt;20.7</td>\n",
       "      <td>NaN</td>\n",
       "      <td>6.290000e-09</td>\n",
       "      <td>NaN</td>\n",
       "    </tr>\n",
       "    <tr>\n",
       "      <th>3</th>\n",
       "      <td>65</td>\n",
       "      <td>MAXI J1348-630</td>\n",
       "      <td>13:48:13</td>\n",
       "      <td>-63:16:28</td>\n",
       "      <td>309.264065</td>\n",
       "      <td>-1.102971</td>\n",
       "      <td>i’=14.44±0.08</td>\n",
       "      <td>i’=20.3±0.4</td>\n",
       "      <td>&gt;3 / 2.2+0.5-0.6</td>\n",
       "      <td>1.970000e-08</td>\n",
       "      <td>NaN</td>\n",
       "    </tr>\n",
       "    <tr>\n",
       "      <th>4</th>\n",
       "      <td>64</td>\n",
       "      <td>MAXI J1631-479</td>\n",
       "      <td>16:31:14</td>\n",
       "      <td>-47:48:23</td>\n",
       "      <td>336.288139</td>\n",
       "      <td>0.312481</td>\n",
       "      <td>NaN</td>\n",
       "      <td>NaN</td>\n",
       "      <td>NaN</td>\n",
       "      <td>1.060000e-08</td>\n",
       "      <td>NaN</td>\n",
       "    </tr>\n",
       "    <tr>\n",
       "      <th>...</th>\n",
       "      <td>...</td>\n",
       "      <td>...</td>\n",
       "      <td>...</td>\n",
       "      <td>...</td>\n",
       "      <td>...</td>\n",
       "      <td>...</td>\n",
       "      <td>...</td>\n",
       "      <td>...</td>\n",
       "      <td>...</td>\n",
       "      <td>...</td>\n",
       "      <td>...</td>\n",
       "    </tr>\n",
       "    <tr>\n",
       "      <th>63</th>\n",
       "      <td>5</td>\n",
       "      <td>1H 1659-487 \\nGX 339-4 = V821 Ara</td>\n",
       "      <td>17:02:49</td>\n",
       "      <td>-48:47:23</td>\n",
       "      <td>338.939090</td>\n",
       "      <td>-4.326483</td>\n",
       "      <td>I=13.6±0.1</td>\n",
       "      <td>r=19.9±0.1</td>\n",
       "      <td>&gt;5</td>\n",
       "      <td>2.560000e-08</td>\n",
       "      <td>42.21±0.01</td>\n",
       "    </tr>\n",
       "    <tr>\n",
       "      <th>64</th>\n",
       "      <td>4</td>\n",
       "      <td>4U 1755-338 \\nV4134 Sgr</td>\n",
       "      <td>17:58:40</td>\n",
       "      <td>-33:48:27</td>\n",
       "      <td>357.215521</td>\n",
       "      <td>-4.872362</td>\n",
       "      <td>V∼18.5</td>\n",
       "      <td>V&gt;21.96</td>\n",
       "      <td>6.5±2.5</td>\n",
       "      <td>1.170000e-09</td>\n",
       "      <td>∼4.4</td>\n",
       "    </tr>\n",
       "    <tr>\n",
       "      <th>65</th>\n",
       "      <td>3</td>\n",
       "      <td>4U 1543-475 \\nIL Lup</td>\n",
       "      <td>15:47:08</td>\n",
       "      <td>-47:40:11</td>\n",
       "      <td>330.917871</td>\n",
       "      <td>5.426147</td>\n",
       "      <td>V=14.9</td>\n",
       "      <td>V=16.7</td>\n",
       "      <td>7.5±0.5</td>\n",
       "      <td>9.420000e-08</td>\n",
       "      <td>26.79377±0.00007</td>\n",
       "    </tr>\n",
       "    <tr>\n",
       "      <th>66</th>\n",
       "      <td>2</td>\n",
       "      <td>4U 1630-472 \\nNor X-1</td>\n",
       "      <td>16:34:02</td>\n",
       "      <td>-47:23:35</td>\n",
       "      <td>336.911243</td>\n",
       "      <td>0.250295</td>\n",
       "      <td>K (not AB)=16.1</td>\n",
       "      <td>NaN</td>\n",
       "      <td>4.7-11.5</td>\n",
       "      <td>2.650000e-08</td>\n",
       "      <td>NaN</td>\n",
       "    </tr>\n",
       "    <tr>\n",
       "      <th>67</th>\n",
       "      <td>1</td>\n",
       "      <td>Cen X-2</td>\n",
       "      <td>14:00:28</td>\n",
       "      <td>-64:47:36</td>\n",
       "      <td>310.200098</td>\n",
       "      <td>-2.900134</td>\n",
       "      <td>NaN</td>\n",
       "      <td>NaN</td>\n",
       "      <td>NaN</td>\n",
       "      <td>1.580000e-07</td>\n",
       "      <td>NaN</td>\n",
       "    </tr>\n",
       "  </tbody>\n",
       "</table>\n",
       "<p>68 rows × 11 columns</p>\n",
       "</div>"
      ],
      "text/plain": [
       "    ID                              Name \\n(Counterpart) RA \\n[hh:mm:ss]  \\\n",
       "0   68                                    MAXI J1803-298        18:03:03   \n",
       "1   67  AT2019wey \\nSRGA J043520.9+552226 = ZTF19acwrvzk         4:35:23   \n",
       "2   66                                    MAXI J0637-430         6:36:24   \n",
       "3   65                                    MAXI J1348-630        13:48:13   \n",
       "4   64                                    MAXI J1631-479        16:31:14   \n",
       "..  ..                                               ...             ...   \n",
       "63   5                 1H 1659-487 \\nGX 339-4 = V821 Ara        17:02:49   \n",
       "64   4                           4U 1755-338 \\nV4134 Sgr        17:58:40   \n",
       "65   3                              4U 1543-475 \\nIL Lup        15:47:08   \n",
       "66   2                             4U 1630-472 \\nNor X-1        16:34:02   \n",
       "67   1                                           Cen X-2        14:00:28   \n",
       "\n",
       "   DEC \\n[dd:mm:ss]    ℓ\\n[deg]  b \\n[deg] Magnitude\\nOutburst (AB)  \\\n",
       "0         -29:49:50    1.147184  -3.727514            i'=16.01±0.01   \n",
       "1          55:22:34  151.161130   5.299730            r’=17.40±0.05   \n",
       "2         -42:52:05  251.532037 -20.674739            r’=15.80±0.01   \n",
       "3         -63:16:28  309.264065  -1.102971            i’=14.44±0.08   \n",
       "4         -47:48:23  336.288139   0.312481                      NaN   \n",
       "..              ...         ...        ...                      ...   \n",
       "63        -48:47:23  338.939090  -4.326483               I=13.6±0.1   \n",
       "64        -33:48:27  357.215521  -4.872362                   V∼18.5   \n",
       "65        -47:40:11  330.917871   5.426147                   V=14.9   \n",
       "66        -47:23:35  336.911243   0.250295          K (not AB)=16.1   \n",
       "67        -64:47:36  310.200098  -2.900134                      NaN   \n",
       "\n",
       "   Mag. \\nQuies. (AB)         d \\n[kpc]  fxpeak\\n[2-10] keV\\n[erg s-1 cm-2]  \\\n",
       "0                 NaN               NaN                        3.960000e-09   \n",
       "1             i’≥24.1                >1                        2.400000e-08   \n",
       "2             i’>20.7               NaN                        6.290000e-09   \n",
       "3         i’=20.3±0.4  >3 / 2.2+0.5-0.6                        1.970000e-08   \n",
       "4                 NaN               NaN                        1.060000e-08   \n",
       "..                ...               ...                                 ...   \n",
       "63         r=19.9±0.1                >5                        2.560000e-08   \n",
       "64            V>21.96           6.5±2.5                        1.170000e-09   \n",
       "65             V=16.7           7.5±0.5                        9.420000e-08   \n",
       "66                NaN          4.7-11.5                        2.650000e-08   \n",
       "67                NaN               NaN                        1.580000e-07   \n",
       "\n",
       "          Porb \\n[h]  \n",
       "0                NaN  \n",
       "1               <8.2  \n",
       "2                NaN  \n",
       "3                NaN  \n",
       "4                NaN  \n",
       "..               ...  \n",
       "63        42.21±0.01  \n",
       "64              ∼4.4  \n",
       "65  26.79377±0.00007  \n",
       "66               NaN  \n",
       "67               NaN  \n",
       "\n",
       "[68 rows x 11 columns]"
      ]
     },
     "execution_count": 17,
     "metadata": {},
     "output_type": "execute_result"
    }
   ],
   "source": [
    "bc"
   ]
  },
  {
   "cell_type": "code",
   "execution_count": 15,
   "metadata": {},
   "outputs": [],
   "source": [
    "fx_mean = bc['fxpeak\\n[2-10] keV\\n[erg s-1 cm-2]'].mean() * u.erg / u.s / u.cm ** 2"
   ]
  },
  {
   "cell_type": "code",
   "execution_count": 39,
   "metadata": {},
   "outputs": [
    {
     "data": {
      "text/latex": [
       "$7.8545132 \\times 10^{-8} \\; \\mathrm{\\frac{erg}{s\\,cm^{2}}}$"
      ],
      "text/plain": [
       "<Quantity 7.85451321e-08 erg / (cm2 s)>"
      ]
     },
     "execution_count": 39,
     "metadata": {},
     "output_type": "execute_result"
    }
   ],
   "source": [
    "fx_mean"
   ]
  },
  {
   "cell_type": "code",
   "execution_count": 32,
   "metadata": {},
   "outputs": [],
   "source": [
    "d_mean = df['d_kpc'].sample(n=10000).mean() * u.kpc"
   ]
  },
  {
   "cell_type": "code",
   "execution_count": 33,
   "metadata": {},
   "outputs": [],
   "source": [
    "L_mean = (fx_mean * 4 * np.pi * d_mean**2).cgs"
   ]
  },
  {
   "cell_type": "code",
   "execution_count": 34,
   "metadata": {},
   "outputs": [
    {
     "data": {
      "text/latex": [
       "$7.6913919 \\times 10^{38} \\; \\mathrm{\\frac{erg}{s}}$"
      ],
      "text/plain": [
       "<Quantity 7.69139192e+38 erg / s>"
      ]
     },
     "execution_count": 34,
     "metadata": {},
     "output_type": "execute_result"
    }
   ],
   "source": [
    "L_mean"
   ]
  },
  {
   "cell_type": "code",
   "execution_count": 16,
   "metadata": {},
   "outputs": [
    {
     "data": {
      "text/latex": [
       "$7.8545132 \\times 10^{-8} \\; \\mathrm{\\frac{erg}{s\\,cm^{2}}}$"
      ],
      "text/plain": [
       "<Quantity 7.85451321e-08 erg / (cm2 s)>"
      ]
     },
     "execution_count": 16,
     "metadata": {},
     "output_type": "execute_result"
    }
   ],
   "source": [
    "fx_mean * df['d_kpc']"
   ]
  },
  {
   "cell_type": "code",
   "execution_count": 267,
   "metadata": {},
   "outputs": [],
   "source": [
    "decs = np.arange(-90, 90, 2.5)\n",
    "pct = [len(df[df['dec'] > x]) / len(df) for x in decs]"
   ]
  },
  {
   "cell_type": "code",
   "execution_count": 271,
   "metadata": {},
   "outputs": [
    {
     "data": {
      "text/plain": [
       "<matplotlib.lines.Line2D at 0x7f8924ef2fd0>"
      ]
     },
     "execution_count": 271,
     "metadata": {},
     "output_type": "execute_result"
    },
    {
     "data": {
      "image/png": "[encoded data removed]",
      "text/plain": [
       "<Figure size 432x288 with 1 Axes>"
      ]
     },
     "metadata": {
      "needs_background": "light"
     },
     "output_type": "display_data"
    }
   ],
   "source": [
    "plt.plot(decs, pct)\n",
    "plt.axvline(-30)"
   ]
  },
  {
   "cell_type": "code",
   "execution_count": 265,
   "metadata": {},
   "outputs": [
    {
     "data": {
      "text/plain": [
       "<matplotlib.axes._subplots.AxesSubplot at 0x7f892497f390>"
      ]
     },
     "execution_count": 265,
     "metadata": {},
     "output_type": "execute_result"
    },
    {
     "data": {
      "image/png": "[encoded data removed]",
      "text/plain": [
       "<Figure size 432x288 with 1 Axes>"
      ]
     },
     "metadata": {
      "needs_background": "light"
     },
     "output_type": "display_data"
    }
   ],
   "source": [
    "df['dec'].hist()"
   ]
  },
  {
   "cell_type": "markdown",
   "metadata": {},
   "source": [
    "## Read in sample XRB positions"
   ]
  },
  {
   "cell_type": "code",
   "execution_count": 106,
   "metadata": {},
   "outputs": [],
   "source": [
    "df = pd.read_csv('../data/sample_xrb_positions_10M.csv.gz', header=None, names=['ra', 'dec', 'd_kpc', 'E(B-V)'])"
   ]
  },
  {
   "cell_type": "code",
   "execution_count": 107,
   "metadata": {},
   "outputs": [
    {
     "data": {
      "text/html": [
       "<div>\n",
       "<style scoped>\n",
       "    .dataframe tbody tr th:only-of-type {\n",
       "        vertical-align: middle;\n",
       "    }\n",
       "\n",
       "    .dataframe tbody tr th {\n",
       "        vertical-align: top;\n",
       "    }\n",
       "\n",
       "    .dataframe thead th {\n",
       "        text-align: right;\n",
       "    }\n",
       "</style>\n",
       "<table border=\"1\" class=\"dataframe\">\n",
       "  <thead>\n",
       "    <tr style=\"text-align: right;\">\n",
       "      <th></th>\n",
       "      <th>ra</th>\n",
       "      <th>dec</th>\n",
       "      <th>d_kpc</th>\n",
       "      <th>E(B-V)</th>\n",
       "    </tr>\n",
       "  </thead>\n",
       "  <tbody>\n",
       "    <tr>\n",
       "      <th>0</th>\n",
       "      <td>269.47</td>\n",
       "      <td>-26.09</td>\n",
       "      <td>8.29</td>\n",
       "      <td>3.65</td>\n",
       "    </tr>\n",
       "    <tr>\n",
       "      <th>1</th>\n",
       "      <td>266.27</td>\n",
       "      <td>-29.42</td>\n",
       "      <td>8.45</td>\n",
       "      <td>5.59</td>\n",
       "    </tr>\n",
       "    <tr>\n",
       "      <th>2</th>\n",
       "      <td>256.26</td>\n",
       "      <td>-44.40</td>\n",
       "      <td>6.49</td>\n",
       "      <td>1.80</td>\n",
       "    </tr>\n",
       "    <tr>\n",
       "      <th>3</th>\n",
       "      <td>281.17</td>\n",
       "      <td>-2.29</td>\n",
       "      <td>14.20</td>\n",
       "      <td>5.41</td>\n",
       "    </tr>\n",
       "    <tr>\n",
       "      <th>4</th>\n",
       "      <td>264.38</td>\n",
       "      <td>-24.96</td>\n",
       "      <td>8.47</td>\n",
       "      <td>1.55</td>\n",
       "    </tr>\n",
       "    <tr>\n",
       "      <th>...</th>\n",
       "      <td>...</td>\n",
       "      <td>...</td>\n",
       "      <td>...</td>\n",
       "      <td>...</td>\n",
       "    </tr>\n",
       "    <tr>\n",
       "      <th>9999995</th>\n",
       "      <td>262.12</td>\n",
       "      <td>-38.87</td>\n",
       "      <td>10.80</td>\n",
       "      <td>1.63</td>\n",
       "    </tr>\n",
       "    <tr>\n",
       "      <th>9999996</th>\n",
       "      <td>277.20</td>\n",
       "      <td>-11.39</td>\n",
       "      <td>11.31</td>\n",
       "      <td>5.06</td>\n",
       "    </tr>\n",
       "    <tr>\n",
       "      <th>9999997</th>\n",
       "      <td>268.46</td>\n",
       "      <td>-27.94</td>\n",
       "      <td>7.87</td>\n",
       "      <td>2.29</td>\n",
       "    </tr>\n",
       "    <tr>\n",
       "      <th>9999998</th>\n",
       "      <td>271.04</td>\n",
       "      <td>-25.44</td>\n",
       "      <td>8.23</td>\n",
       "      <td>2.49</td>\n",
       "    </tr>\n",
       "    <tr>\n",
       "      <th>9999999</th>\n",
       "      <td>317.00</td>\n",
       "      <td>44.56</td>\n",
       "      <td>14.49</td>\n",
       "      <td>0.93</td>\n",
       "    </tr>\n",
       "  </tbody>\n",
       "</table>\n",
       "<p>10000000 rows × 4 columns</p>\n",
       "</div>"
      ],
      "text/plain": [
       "             ra    dec  d_kpc  E(B-V)\n",
       "0        269.47 -26.09   8.29    3.65\n",
       "1        266.27 -29.42   8.45    5.59\n",
       "2        256.26 -44.40   6.49    1.80\n",
       "3        281.17  -2.29  14.20    5.41\n",
       "4        264.38 -24.96   8.47    1.55\n",
       "...         ...    ...    ...     ...\n",
       "9999995  262.12 -38.87  10.80    1.63\n",
       "9999996  277.20 -11.39  11.31    5.06\n",
       "9999997  268.46 -27.94   7.87    2.29\n",
       "9999998  271.04 -25.44   8.23    2.49\n",
       "9999999  317.00  44.56  14.49    0.93\n",
       "\n",
       "[10000000 rows x 4 columns]"
      ]
     },
     "execution_count": 107,
     "metadata": {},
     "output_type": "execute_result"
    }
   ],
   "source": [
    "df"
   ]
  },
  {
   "cell_type": "markdown",
   "metadata": {},
   "source": [
    "### Set assumptions"
   ]
  },
  {
   "cell_type": "code",
   "execution_count": 19,
   "metadata": {},
   "outputs": [],
   "source": [
    "m_ztf = 20.5  # ZTF limiting mag\n",
    "del_m = 6  # difference in outburst and quescient mag (optical)\n",
    "R_V = 3.1  #  E (B-V) to A_v"
   ]
  },
  {
   "cell_type": "markdown",
   "metadata": {},
   "source": [
    "AV to nH https://arxiv.org/pdf/0903.2057.pdf\n",
    "E(B_V) to AV https://ned.ipac.caltech.edu/level5/Sept07/Li2/Li2.html\n",
    "SWIFT catalog https://www.swift.ac.uk/2SXPS/docs.php"
   ]
  },
  {
   "cell_type": "code",
   "execution_count": 108,
   "metadata": {},
   "outputs": [],
   "source": [
    "distmod = 5 * np.log10(df[\"d_kpc\"] * 1.e3) - 5.0  # Calculate distance modulus for all XRB\n",
    "df['A_V'] = R_V * df['E(B-V)']   # Calculate extinction\n",
    "nH = 2.21 * 10 ** 21 * df['A_V']   # column density in cm ** -2"
   ]
  },
  {
   "cell_type": "code",
   "execution_count": 109,
   "metadata": {},
   "outputs": [],
   "source": [
    "df['nH'] = nH\n",
    "df['distmod'] = distmod"
   ]
  },
  {
   "cell_type": "markdown",
   "metadata": {},
   "source": [
    "### Plot abs magnitude (M) required for ztf detection"
   ]
  },
  {
   "cell_type": "code",
   "execution_count": 359,
   "metadata": {},
   "outputs": [
    {
     "data": {
      "text/plain": [
       "Text(0.5, 1.0, 'Distance Moduli of Simulated XRBs')"
      ]
     },
     "execution_count": 359,
     "metadata": {},
     "output_type": "execute_result"
    },
    {
     "data": {
      "image/png": "[encoded data removed]",
      "text/plain": [
       "<Figure size 1080x720 with 1 Axes>"
      ]
     },
     "metadata": {
      "needs_background": "light"
     },
     "output_type": "display_data"
    }
   ],
   "source": [
    "plt.figure(figsize=(15, 10))\n",
    "M_required = m_ztf - (distmod+df['A_V']).sample(n=100000)\n",
    "_ = plt.hist(M_required, bins='fd', density=True)\n",
    "plt.xlabel('Required M_V for ZTF detection')\n",
    "plt.ylabel('Probability Density')\n",
    "plt.title('Distance Moduli of Simulated XRBs')"
   ]
  },
  {
   "cell_type": "code",
   "execution_count": 38,
   "metadata": {},
   "outputs": [
    {
     "data": {
      "text/plain": [
       "2637"
      ]
     },
     "execution_count": 38,
     "metadata": {},
     "output_type": "execute_result"
    }
   ],
   "source": [
    "(M_required > 6).sum()"
   ]
  },
  {
   "cell_type": "markdown",
   "metadata": {},
   "source": [
    "### Assumptions for X-ray flux in outburst and quiescence "
   ]
  },
  {
   "cell_type": "code",
   "execution_count": 110,
   "metadata": {},
   "outputs": [],
   "source": [
    "outburst_lum = 10 ** 38 * u.erg  # outburst luminosity\n",
    "quies_lum = 10 ** 31 * u.erg# quiscent luminosity\n"
   ]
  },
  {
   "cell_type": "code",
   "execution_count": 111,
   "metadata": {},
   "outputs": [],
   "source": [
    "df['Oflux'] = outburst_lum / (df['d_kpc'].values ** 2 * u.kpc ** 2).to(u.cm**2).value\n",
    "df['Qflux'] = quies_lum / (df['d_kpc'].values ** 2 * u.kpc ** 2).to(u.cm**2).value"
   ]
  },
  {
   "cell_type": "code",
   "execution_count": 74,
   "metadata": {},
   "outputs": [
    {
     "data": {
      "text/plain": [
       "1.1064085237962752e-08"
      ]
     },
     "execution_count": 74,
     "metadata": {},
     "output_type": "execute_result"
    }
   ],
   "source": [
    "df['Oflux'].min()"
   ]
  },
  {
   "cell_type": "code",
   "execution_count": 76,
   "metadata": {},
   "outputs": [
    {
     "data": {
      "text/plain": [
       "0.0500    4.527924e-15\n",
       "0.9999    6.247859e-12\n",
       "Name: Qflux, dtype: float64"
      ]
     },
     "execution_count": 76,
     "metadata": {},
     "output_type": "execute_result"
    }
   ],
   "source": [
    "df['Qflux'].quantile([0.05, .9999])\n"
   ]
  },
  {
   "cell_type": "markdown",
   "metadata": {},
   "source": [
    "### Plot distribution of quiescent fluxes"
   ]
  },
  {
   "cell_type": "code",
   "execution_count": 137,
   "metadata": {},
   "outputs": [
    {
     "data": {
      "text/plain": [
       "Text(0.5, 0, 'Flux [$ergs/cm^{2}$]')"
      ]
     },
     "execution_count": 137,
     "metadata": {},
     "output_type": "execute_result"
    },
    {
     "data": {
      "image/png": "[encoded data removed]",
      "text/plain": [
       "<Figure size 432x288 with 1 Axes>"
      ]
     },
     "metadata": {
      "needs_background": "light"
     },
     "output_type": "display_data"
    }
   ],
   "source": [
    "df['Qflux'].hist(bins=np.logspace(-15, -13, 100))\n",
    "plt.xscale('log')\n",
    "plt.xlabel(\"Flux [$ergs/cm^{2}$]\")"
   ]
  },
  {
   "cell_type": "code",
   "execution_count": 148,
   "metadata": {},
   "outputs": [
    {
     "data": {
      "text/plain": [
       "Text(0.5, 0, 'Flux [1e-15 $ergs/cm^{2}$]')"
      ]
     },
     "execution_count": 148,
     "metadata": {},
     "output_type": "execute_result"
    },
    {
     "data": {
      "image/png": "[encoded data removed]",
      "text/plain": [
       "<Figure size 432x288 with 1 Axes>"
      ]
     },
     "metadata": {
      "needs_background": "light"
     },
     "output_type": "display_data"
    }
   ],
   "source": [
    "(df['Qflux']*1e15).hist(bins=np.linspace(1, 100, 100))\n",
    "# plt.xscale('log')\n",
    "plt.xlabel(\"Flux [1e-15 $ergs/cm^{2}$]\")"
   ]
  },
  {
   "cell_type": "markdown",
   "metadata": {},
   "source": [
    "### Plot distribution of column densities"
   ]
  },
  {
   "cell_type": "code",
   "execution_count": 155,
   "metadata": {},
   "outputs": [
    {
     "data": {
      "text/plain": [
       "<matplotlib.axes._subplots.AxesSubplot at 0x7f892f42aa90>"
      ]
     },
     "execution_count": 155,
     "metadata": {},
     "output_type": "execute_result"
    },
    {
     "data": {
      "image/png": "[encoded data removed]",
      "text/plain": [
       "<Figure size 432x288 with 1 Axes>"
      ]
     },
     "metadata": {
      "needs_background": "light"
     },
     "output_type": "display_data"
    }
   ],
   "source": [
    "df.query('nH==0')['d_kpc'].hist()"
   ]
  },
  {
   "cell_type": "code",
   "execution_count": 151,
   "metadata": {},
   "outputs": [
    {
     "data": {
      "text/plain": [
       "0.00001    6.851000e+19\n",
       "1.00000    5.741138e+22\n",
       "Name: A_V, dtype: float64"
      ]
     },
     "execution_count": 151,
     "metadata": {},
     "output_type": "execute_result"
    }
   ],
   "source": [
    "nH.quantile([0.00001,1])"
   ]
  },
  {
   "cell_type": "code",
   "execution_count": 146,
   "metadata": {},
   "outputs": [
    {
     "data": {
      "text/plain": [
       "Text(0.5, 0, 'Column Density [1e22 $cm^{-2}$]')"
      ]
     },
     "execution_count": 146,
     "metadata": {},
     "output_type": "execute_result"
    },
    {
     "data": {
      "image/png": "[encoded data removed]",
      "text/plain": [
       "<Figure size 432x288 with 1 Axes>"
      ]
     },
     "metadata": {
      "needs_background": "light"
     },
     "output_type": "display_data"
    }
   ],
   "source": [
    "# nH.hist(bins=np.logspace(22, 23, 100))\n",
    "(nH/1e22).hist(bins=np.linspace(.1, 7, 100))\n",
    "plt.xlabel(\"Column Density [1e22 $cm^{-2}$]\")"
   ]
  },
  {
   "cell_type": "markdown",
   "metadata": {},
   "source": [
    "## Use webPIMMs to get count/s estimates"
   ]
  },
  {
   "cell_type": "code",
   "execution_count": 245,
   "metadata": {},
   "outputs": [],
   "source": [
    "class Interpolate():\n",
    "    \"\"\"Interpolates webPIMMs counts to get cps as a function of flux and nH\"\"\"\n",
    "    def __init__(self, WP_output, instr):\n",
    "        self.data = WP_output\n",
    "        self.instr = instr\n",
    "        self.cps_interp = interp1d(self.data['nH'], self.data[instr], kind='quadratic')\n",
    "        self.data_flux = 1e-15\n",
    "        assert self.data_flux == self.data['flux'].values[0]\n",
    "        \n",
    "        self.factor = 1e7 # Outburst vs quiescence factor\n",
    "        \n",
    "        \n",
    "    def check_interp(self):\n",
    "        fig, ax = plt.subplots()\n",
    "        ax.set_xscale(\"log\", nonposx='clip')\n",
    "        ax.set_yscale(\"log\")\n",
    "        self.data.plot(x='nH', y=self.instr, ax=ax)\n",
    "        xs = np.logspace(19, 23, 100)\n",
    "        ax.plot(xs, self.cps_interp(xs))\n",
    "        plt.ylabel('Counts/s')\n",
    "        plt.show()\n",
    "    \n",
    "    def get_cps(self, nH, flux, state='Q'):\n",
    "        factor = 1 \n",
    "        if state == 'O':\n",
    "            factor = self.factor\n",
    "        return self.cps_interp(nH) * flux / self.data_flux # *factor\n",
    "    \n",
    "    def plot_cps_distr(self, nH, flux, state='Q'):\n",
    "        pass"
   ]
  },
  {
   "cell_type": "markdown",
   "metadata": {},
   "source": [
    "### ROSAT\n",
    "All sky coverage, 18% of sky in deep field"
   ]
  },
  {
   "cell_type": "code",
   "execution_count": 202,
   "metadata": {},
   "outputs": [],
   "source": [
    "dfr = pd.DataFrame([(1e-15, 0, 2.276e-5, 1.173e-4),\n",
    "(1e-15, 3e19, 1.965e-5, 9.185e-5),\n",
    "(1e-15, 3e20, 1.184e-5, 3.659e-5), \n",
    "(1e-15, 3e21, 5.606e-6, 1.486e-5), \n",
    "(1e-15, 1e22, 2.190e-6, 5.958e-6), \n",
    "(1e-15, 2e22, 8.617e-7, 2.494e-6), \n",
    "(1e-15, 3e22, 4.139e-7, 1.263e-6), \n",
    "(1e-15, 6e22, 7.425e-8, 2.528e-7), \n",
    "(1e-15, 1e23, 1.200e-8, 4.433e-8), \n",
    "], columns=['flux', 'nH', 'HRI', 'PSPC'])"
   ]
  },
  {
   "cell_type": "code",
   "execution_count": 246,
   "metadata": {
    "scrolled": true
   },
   "outputs": [
    {
     "data": {
      "image/png": "[encoded data removed]",
      "text/plain": [
       "<Figure size 432x288 with 1 Axes>"
      ]
     },
     "metadata": {
      "needs_background": "light"
     },
     "output_type": "display_data"
    }
   ],
   "source": [
    "rosat = Interpolate(dfr, 'PSPC')\n",
    "\n",
    "rosat.check_interp()"
   ]
  },
  {
   "cell_type": "code",
   "execution_count": 276,
   "metadata": {},
   "outputs": [],
   "source": [
    "rosat_fits = fits.open(data_dir+'rosat_2rxs/cat2rxs.fits')\n",
    "dfx = pd.DataFrame(rosat_fits[1].data)\n",
    "rosat_fits.close()"
   ]
  },
  {
   "cell_type": "code",
   "execution_count": 277,
   "metadata": {},
   "outputs": [
    {
     "data": {
      "text/plain": [
       "['EXPOSURE', 'ExpTime_2rxp', 'EXPOS_1rxs', 'Expos_1sxps', 'ExpTime_1rxh']"
      ]
     },
     "execution_count": 277,
     "metadata": {},
     "output_type": "execute_result"
    }
   ],
   "source": [
    "[x for x in dfx.columns if 'exp' in x.lower()]"
   ]
  },
  {
   "cell_type": "code",
   "execution_count": 294,
   "metadata": {},
   "outputs": [
    {
     "data": {
      "text/plain": [
       "EXPOSURE        4.362368e+02\n",
       "ExpTime_2rxp   -2.147484e+09\n",
       "EXPOS_1rxs      3.520000e+02\n",
       "Expos_1sxps     5.200000e+03\n",
       "ExpTime_1rxh   -2.147484e+09\n",
       "dtype: float64"
      ]
     },
     "execution_count": 294,
     "metadata": {},
     "output_type": "execute_result"
    }
   ],
   "source": [
    "dfx[[x for x in dfx.columns if 'exp' in x.lower()]].median()"
   ]
  },
  {
   "cell_type": "code",
   "execution_count": 314,
   "metadata": {},
   "outputs": [],
   "source": [
    "rosat_exp = dfx['EXPOSURE']"
   ]
  },
  {
   "cell_type": "markdown",
   "metadata": {},
   "source": [
    "### Chandra"
   ]
  },
  {
   "cell_type": "code",
   "execution_count": 231,
   "metadata": {},
   "outputs": [],
   "source": [
    "dfch = pd.DataFrame([(1e-15, 0, 3.066e-5, 4.083e-5),\n",
    "(1e-15, 3e19, 3.062e-5, 4.055e-5),\n",
    "(1e-15, 3e20, 3.020e-5, 3.887e-5), \n",
    "(1e-15, 3e21, 2.672e-5, 3.322e-5), \n",
    "(1e-15, 1e22, 2.084e-5, 2.520e-5), \n",
    "(1e-15, 2e22, 1.614e-5, 1.907e-5), \n",
    "(1e-15, 3e22, 1.336e-5, 1.552e-5), \n",
    "(1e-15, 6e22, 9.173e-6, 1.024e-5), \n",
    "(1e-15, 1e23, 3.696e-6, 7.209e-6)\n",
    "], columns=['flux', 'nH', 'ACIS-I', 'ACIS-S'])"
   ]
  },
  {
   "cell_type": "code",
   "execution_count": 247,
   "metadata": {},
   "outputs": [
    {
     "data": {
      "image/png": "[encoded data removed]",
      "text/plain": [
       "<Figure size 432x288 with 1 Axes>"
      ]
     },
     "metadata": {
      "needs_background": "light"
     },
     "output_type": "display_data"
    }
   ],
   "source": [
    "chandra = Interpolate(dfch, 'ACIS-S')\n",
    "\n",
    "chandra.check_interp()"
   ]
  },
  {
   "cell_type": "code",
   "execution_count": 292,
   "metadata": {},
   "outputs": [
    {
     "name": "stderr",
     "output_type": "stream",
     "text": [
      "WARNING: VerifyWarning: It is strongly recommended that column names contain only upper and lower-case ASCII letters, digits, or underscores for maximum compatibility with other software (got '---'). [astropy.io.fits.column]\n"
     ]
    }
   ],
   "source": [
    "ch_fits = fits.open(data_dir + 'chandra_csc_v2/IX_57_csc2master.fits.gz')\n",
    "dfch = pd.DataFrame(ch_fits[1].data)\n",
    "ch_fits.close()"
   ]
  },
  {
   "cell_type": "code",
   "execution_count": 293,
   "metadata": {},
   "outputs": [
    {
     "data": {
      "text/plain": [
       "['ExpAC', 'ExpHRC']"
      ]
     },
     "execution_count": 293,
     "metadata": {},
     "output_type": "execute_result"
    }
   ],
   "source": [
    "[x for x in dfch.columns if 'exp' in x.lower()]"
   ]
  },
  {
   "cell_type": "code",
   "execution_count": 296,
   "metadata": {},
   "outputs": [
    {
     "data": {
      "text/plain": [
       "ExpAC     49316.277804\n",
       "ExpHRC        0.000000\n",
       "dtype: float64"
      ]
     },
     "execution_count": 296,
     "metadata": {},
     "output_type": "execute_result"
    }
   ],
   "source": [
    "dfch[[x for x in dfch.columns if 'exp' in x.lower()]].median()"
   ]
  },
  {
   "cell_type": "code",
   "execution_count": 315,
   "metadata": {},
   "outputs": [],
   "source": [
    "chandra_exp = dfch['ExpAC']"
   ]
  },
  {
   "cell_type": "markdown",
   "metadata": {},
   "source": [
    "### XMM\n",
    "#### 4XMM DR10\n",
    "Sky coverage: 1192 sq deg\n",
    "flux map http://xmm-catalog-dev.irap.omp.eu/~mcoriat/shared2/epfluxmap/ (photon ind 1.42, nH 1.7e20)\n",
    "\n",
    "The median flux in the total photon energy band (0.2 - 12 keV) of the catalogue detections is ~ 8.3 × 10-14 erg cm-2 s-1; in the soft energy band (0.2 - 2 keV) the median flux is ~ 5.3 × 10-15, and in the hard band (2 - 12 keV) it is ~ 1.2 × 10-14. About 23% of the sources have total fluxes below 1 × 10-14 erg cm-2 s-1.\n",
    "#### XMMSL2\n",
    "https://www.cosmos.esa.int/web/xmm-newton/xmmsl2-ug\n",
    "The median flux is 3.0E-12 ergs/s/cm2 in the total band, 1.2E-12 in the soft band and 9.3E-12 in the hard band in the clean catalogue."
   ]
  },
  {
   "cell_type": "code",
   "execution_count": 239,
   "metadata": {},
   "outputs": [],
   "source": [
    "dfxmm = pd.DataFrame([(1e-15, 0, 5.076e-4, 3.017e-4),\n",
    "(1e-15, 3e19, 4.838e-4, 2.956e-4),\n",
    "(1e-15, 3e20, 3.586e-4, 2.564e-4), \n",
    "(1e-15, 1e21, 2.527e-4, 2.042e-4), \n",
    "(1e-15, 3e21, 1.617e-4, 1.414e-4), \n",
    "(1e-15, 1e22, 8.717e-5, 8.088e-5), \n",
    "(1e-15, 2e22, 5.900e-5, 5.612e-5), \n",
    "(1e-15, 3e22, 4.635e-5, 4.475e-5), \n",
    "(1e-15, 6e22, 3.010e-5, 3.112e-5), \n",
    "(1e-15, 1e23, 2.167e-5, 2.190e-5)\n",
    "], columns=['flux', 'nH', 'PN-THIN', 'PN-THICK'])"
   ]
  },
  {
   "cell_type": "code",
   "execution_count": 248,
   "metadata": {
    "scrolled": true
   },
   "outputs": [
    {
     "data": {
      "image/png": "[encoded data removed]",
      "text/plain": [
       "<Figure size 432x288 with 1 Axes>"
      ]
     },
     "metadata": {
      "needs_background": "light"
     },
     "output_type": "display_data"
    }
   ],
   "source": [
    "xmm = Interpolate(dfxmm, 'PN-THIN')\n",
    "\n",
    "xmm.check_interp()"
   ]
  },
  {
   "cell_type": "code",
   "execution_count": 278,
   "metadata": {},
   "outputs": [],
   "source": [
    "def clean_bytes_cols(df):\n",
    "    # convert bytes to string\n",
    "    str_df = df.select_dtypes([np.object])\n",
    "    str_df = str_df.stack().str.decode('utf-8').unstack()\n",
    "    for col in str_df:\n",
    "        # also strip off extra whitespace\n",
    "        df[col] = str_df[col].str.strip()"
   ]
  },
  {
   "cell_type": "code",
   "execution_count": 279,
   "metadata": {},
   "outputs": [],
   "source": [
    "dfxmmsl = Table.read(data_dir + 'xmm_sl2/xmmsl2_clean.fits').to_pandas()\n",
    "clean_bytes_cols(dfxmmsl)"
   ]
  },
  {
   "cell_type": "code",
   "execution_count": 280,
   "metadata": {},
   "outputs": [
    {
     "data": {
      "text/plain": [
       "['EXP_MAP_B8', 'EXP_MAP_B7', 'EXP_MAP_B6']"
      ]
     },
     "execution_count": 280,
     "metadata": {},
     "output_type": "execute_result"
    }
   ],
   "source": [
    "[x for x in dfxmmsl.columns if 'exp' in x.lower()]"
   ]
  },
  {
   "cell_type": "code",
   "execution_count": 306,
   "metadata": {},
   "outputs": [],
   "source": [
    "dfxmmsl['DATE_END'] = pd.to_datetime(dfxmmsl['DATE_END'])\n",
    "dfxmmsl['DATE_OBS'] = pd.to_datetime(dfxmmsl['DATE_OBS'])"
   ]
  },
  {
   "cell_type": "code",
   "execution_count": 311,
   "metadata": {},
   "outputs": [
    {
     "data": {
      "text/plain": [
       "0        5146\n",
       "1        5146\n",
       "2        5146\n",
       "3        5146\n",
       "4        5146\n",
       "         ... \n",
       "29388    3350\n",
       "29389    3350\n",
       "29390    3350\n",
       "29391    3350\n",
       "29392    3350\n",
       "Length: 29393, dtype: int64"
      ]
     },
     "execution_count": 311,
     "metadata": {},
     "output_type": "execute_result"
    }
   ],
   "source": [
    "(dfxmmsl['DATE_END'] - dfxmmsl['DATE_OBS']).dt.seconds"
   ]
  },
  {
   "cell_type": "code",
   "execution_count": 312,
   "metadata": {},
   "outputs": [],
   "source": [
    "dfxmmsl['exposure'] = (dfxmmsl['DATE_END'] - dfxmmsl['DATE_OBS']).dt.seconds"
   ]
  },
  {
   "cell_type": "code",
   "execution_count": 316,
   "metadata": {},
   "outputs": [],
   "source": [
    "xmmsl_exp = dfxmmsl['exposure']"
   ]
  },
  {
   "cell_type": "code",
   "execution_count": 281,
   "metadata": {},
   "outputs": [
    {
     "name": "stderr",
     "output_type": "stream",
     "text": [
      "WARNING: UnitsWarning: 'erg/cm**2/s' contains multiple slashes, which is discouraged by the FITS standard [astropy.units.format.generic]\n"
     ]
    }
   ],
   "source": [
    "dfxmm10 = Table.read(data_dir + 'xmm_4xmm_dr10/4XMM_DR10cat_slim_v1.0.fits.gz').to_pandas()\n",
    "clean_bytes_cols(dfxmm10)"
   ]
  },
  {
   "cell_type": "code",
   "execution_count": 285,
   "metadata": {},
   "outputs": [],
   "source": [
    "dfxmm10['exposure'] = (dfxmm10['MJD_LAST'] - dfxmm10['MJD_FIRST']) * 86400"
   ]
  },
  {
   "cell_type": "code",
   "execution_count": 317,
   "metadata": {},
   "outputs": [],
   "source": [
    "xmm_exp = dfxmm10['exposure']"
   ]
  },
  {
   "cell_type": "markdown",
   "metadata": {},
   "source": [
    "### Swift\n",
    "https://www.swift.ac.uk/2SXPS/docs.php\n",
    "sky coverage: 3790 sq deg\n",
    "\n",
    "Typical sens\n",
    "2×10-13 erg cm-2 s-1 (observations)\n",
    "4×10-14 erg cm-2 s-1 (stacked images)"
   ]
  },
  {
   "cell_type": "code",
   "execution_count": 241,
   "metadata": {},
   "outputs": [],
   "source": [
    "dfs = pd.DataFrame([(1e-15, 0, 2.222e-5, 2.276e-5),\n",
    "(1e-15, 3e19, 2.199e-5, 2.696e-5),\n",
    "(1e-15, 3e20, 2.016e-5, 2.464e-5), \n",
    "(1e-15, 3e21, 1.26e-5, 1.481e-5), \n",
    "(1e-15, 1e22, 7.772e-6, 8.93e-6), \n",
    "(1e-15, 2e22, 5.484e-6, 6.28e-6), \n",
    "(1e-15, 3e22, 4.370e-6, 5.009e-6), \n",
    "(1e-15, 6e22, 2.860e-6, 3.301e-6), \n",
    "(1e-15, 1e23, 2.033e-6, 2.366e-6)\n",
    "], columns=['flux', 'nH', 'XRT PC', 'XRT PD'])"
   ]
  },
  {
   "cell_type": "code",
   "execution_count": 249,
   "metadata": {},
   "outputs": [
    {
     "data": {
      "image/png": "[encoded data removed]",
      "text/plain": [
       "<Figure size 432x288 with 1 Axes>"
      ]
     },
     "metadata": {
      "needs_background": "light"
     },
     "output_type": "display_data"
    }
   ],
   "source": [
    "swift = Interpolate(dfs, 'XRT PC')\n",
    "\n",
    "swift.check_interp()"
   ]
  },
  {
   "cell_type": "code",
   "execution_count": 290,
   "metadata": {},
   "outputs": [],
   "source": [
    "sw_fits = fits.open(data_dir + 'swift_2sxps/2SXPS_Sources_clean.fits.gz')\n",
    "dfsw = pd.DataFrame(sw_fits[1].data)\n",
    "sw_fits.close()"
   ]
  },
  {
   "cell_type": "code",
   "execution_count": 295,
   "metadata": {},
   "outputs": [
    {
     "data": {
      "text/plain": [
       "['Exposure']"
      ]
     },
     "execution_count": 295,
     "metadata": {},
     "output_type": "execute_result"
    }
   ],
   "source": [
    "[x for x in dfsw.columns if 'exp' in x.lower()]"
   ]
  },
  {
   "cell_type": "code",
   "execution_count": 291,
   "metadata": {
    "scrolled": true
   },
   "outputs": [
    {
     "data": {
      "text/plain": [
       "(0, 1000000.0)"
      ]
     },
     "execution_count": 291,
     "metadata": {},
     "output_type": "execute_result"
    },
    {
     "data": {
      "image/png": "[encoded data removed]",
      "text/plain": [
       "<Figure size 432x288 with 1 Axes>"
      ]
     },
     "metadata": {
      "needs_background": "light"
     },
     "output_type": "display_data"
    }
   ],
   "source": [
    "dfsw['Exposure'].hist(bins=np.logspace(0, 6, 100))\n",
    "plt.xlim([0, 1e6])"
   ]
  },
  {
   "cell_type": "code",
   "execution_count": 318,
   "metadata": {},
   "outputs": [],
   "source": [
    "swift_exp = dfsw['Exposure']"
   ]
  },
  {
   "cell_type": "markdown",
   "metadata": {},
   "source": [
    "## counts per second"
   ]
  },
  {
   "cell_type": "code",
   "execution_count": null,
   "metadata": {},
   "outputs": [],
   "source": [
    "df['Qcps_r']"
   ]
  },
  {
   "cell_type": "code",
   "execution_count": 250,
   "metadata": {},
   "outputs": [],
   "source": [
    "df['Qcps_r'] = rosat.get_cps(df['nH'], df['Qflux'])\n",
    "df['Ocps_r'] = rosat.get_cps(df['nH'], df['Oflux'])\n",
    "df['Qcps_ch'] = chandra.get_cps(df['nH'], df['Qflux'])\n",
    "df['Ocps_ch'] = chandra.get_cps(df['nH'], df['Oflux'])\n",
    "df['Qcps_x'] = xmm.get_cps(df['nH'], df['Qflux'])\n",
    "df['Ocps_x'] = xmm.get_cps(df['nH'], df['Oflux'])\n",
    "\n",
    "df['Qcps_s'] = swift.get_cps(df['nH'], df['Qflux'])\n",
    "df['Ocps_s'] = swift.get_cps(df['nH'], df['Oflux'])"
   ]
  },
  {
   "cell_type": "code",
   "execution_count": 251,
   "metadata": {},
   "outputs": [],
   "source": [
    "counts_features = [x for x in df.columns if 'cps' in x]"
   ]
  },
  {
   "cell_type": "code",
   "execution_count": 343,
   "metadata": {},
   "outputs": [],
   "source": [
    "def plot_loghist(series, nbins=100):\n",
    "        lb, ub = series.quantile([0.01, 0.99])\n",
    "        loglb = np.floor(np.log10(lb))\n",
    "        logub = np.ceil(np.log10(ub))\n",
    "        series.hist(bins=np.logspace(loglb, logub, nbins))\n",
    "        plt.show()"
   ]
  },
  {
   "cell_type": "code",
   "execution_count": 261,
   "metadata": {
    "scrolled": false
   },
   "outputs": [
    {
     "data": {
      "image/png": "[encoded data removed]",
      "text/plain": [
       "<Figure size 432x288 with 1 Axes>"
      ]
     },
     "metadata": {
      "needs_background": "light"
     },
     "output_type": "display_data"
    },
    {
     "data": {
      "image/png": "[encoded data removed]",
      "text/plain": [
       "<Figure size 432x288 with 1 Axes>"
      ]
     },
     "metadata": {
      "needs_background": "light"
     },
     "output_type": "display_data"
    },
    {
     "data": {
      "image/png": "[encoded data removed]",
      "text/plain": [
       "<Figure size 432x288 with 1 Axes>"
      ]
     },
     "metadata": {
      "needs_background": "light"
     },
     "output_type": "display_data"
    },
    {
     "data": {
      "image/png": "[encoded data removed]",
      "text/plain": [
       "<Figure size 432x288 with 1 Axes>"
      ]
     },
     "metadata": {
      "needs_background": "light"
     },
     "output_type": "display_data"
    }
   ],
   "source": [
    "for ff in counts_features:\n",
    "    if 'Q' in ff:\n",
    "        lb, ub = df[ff].quantile([0.01, 0.99])\n",
    "        loglb = np.floor(np.log10(lb))\n",
    "        logub = np.ceil(np.log10(ub))\n",
    "        df[ff].hist(bins=np.logspace(loglb, logub, 100))\n",
    "        plt.title(ff)\n",
    "        plt.show()"
   ]
  },
  {
   "cell_type": "markdown",
   "metadata": {},
   "source": [
    "### N detections Expected"
   ]
  },
  {
   "cell_type": "code",
   "execution_count": null,
   "metadata": {},
   "outputs": [],
   "source": [
    "total_sky = 41253 # sq deg"
   ]
  },
  {
   "cell_type": "markdown",
   "metadata": {},
   "source": [
    "#### ROSAT"
   ]
  },
  {
   "cell_type": "code",
   "execution_count": 319,
   "metadata": {},
   "outputs": [],
   "source": [
    "area = 41253"
   ]
  },
  {
   "cell_type": "code",
   "execution_count": 347,
   "metadata": {},
   "outputs": [],
   "source": [
    "def find_ev(Qcps, exp, snr_thres = 5):\n",
    "    plot_loghist(exp)\n",
    "    plot_loghist(Qcps)\n",
    "    exp_med = exp.median()\n",
    "    snr = (Qcps * exp_med) / np.sqrt(Qcps * exp_med)\n",
    "    plot_loghist(snr)\n",
    "    return sum(snr > snr_thres) / len(snr)"
   ]
  },
  {
   "cell_type": "code",
   "execution_count": 345,
   "metadata": {},
   "outputs": [
    {
     "data": {
      "image/png": "[encoded data removed]",
      "text/plain": [
       "<Figure size 432x288 with 1 Axes>"
      ]
     },
     "metadata": {
      "needs_background": "light"
     },
     "output_type": "display_data"
    },
    {
     "data": {
      "image/png": "[encoded data removed]",
      "text/plain": [
       "<Figure size 432x288 with 1 Axes>"
      ]
     },
     "metadata": {
      "needs_background": "light"
     },
     "output_type": "display_data"
    },
    {
     "data": {
      "image/png": "[encoded data removed]",
      "text/plain": [
       "<Figure size 432x288 with 1 Axes>"
      ]
     },
     "metadata": {
      "needs_background": "light"
     },
     "output_type": "display_data"
    },
    {
     "data": {
      "text/plain": [
       "0.0004771"
      ]
     },
     "execution_count": 345,
     "metadata": {},
     "output_type": "execute_result"
    }
   ],
   "source": [
    "find_ev(df['Qcps_r'], rosat_exp)"
   ]
  },
  {
   "cell_type": "markdown",
   "metadata": {},
   "source": [
    "### Chandra"
   ]
  },
  {
   "cell_type": "code",
   "execution_count": 348,
   "metadata": {
    "scrolled": true
   },
   "outputs": [
    {
     "data": {
      "image/png": "[encoded data removed]",
      "text/plain": [
       "<Figure size 432x288 with 1 Axes>"
      ]
     },
     "metadata": {
      "needs_background": "light"
     },
     "output_type": "display_data"
    },
    {
     "data": {
      "image/png": "[encoded data removed]",
      "text/plain": [
       "<Figure size 432x288 with 1 Axes>"
      ]
     },
     "metadata": {
      "needs_background": "light"
     },
     "output_type": "display_data"
    },
    {
     "data": {
      "image/png": "[encoded data removed]",
      "text/plain": [
       "<Figure size 432x288 with 1 Axes>"
      ]
     },
     "metadata": {
      "needs_background": "light"
     },
     "output_type": "display_data"
    },
    {
     "data": {
      "text/plain": [
       "0.1818257"
      ]
     },
     "execution_count": 348,
     "metadata": {},
     "output_type": "execute_result"
    }
   ],
   "source": [
    "find_ev(df['Qcps_ch'], chandra_exp)"
   ]
  },
  {
   "cell_type": "markdown",
   "metadata": {},
   "source": [
    "### Swift"
   ]
  },
  {
   "cell_type": "code",
   "execution_count": 358,
   "metadata": {},
   "outputs": [],
   "source": [
    "coverage = 3790"
   ]
  },
  {
   "cell_type": "code",
   "execution_count": 349,
   "metadata": {},
   "outputs": [
    {
     "data": {
      "image/png": "[encoded data removed]",
      "text/plain": [
       "<Figure size 432x288 with 1 Axes>"
      ]
     },
     "metadata": {
      "needs_background": "light"
     },
     "output_type": "display_data"
    },
    {
     "data": {
      "image/png": "[encoded data removed]",
      "text/plain": [
       "<Figure size 432x288 with 1 Axes>"
      ]
     },
     "metadata": {
      "needs_background": "light"
     },
     "output_type": "display_data"
    },
    {
     "data": {
      "image/png": "[encoded data removed]",
      "text/plain": [
       "<Figure size 432x288 with 1 Axes>"
      ]
     },
     "metadata": {
      "needs_background": "light"
     },
     "output_type": "display_data"
    },
    {
     "data": {
      "text/plain": [
       "0.0117322"
      ]
     },
     "execution_count": 349,
     "metadata": {},
     "output_type": "execute_result"
    }
   ],
   "source": [
    "find_ev(df['Qcps_s'], swift_exp)"
   ]
  },
  {
   "cell_type": "markdown",
   "metadata": {},
   "source": [
    "### XMM"
   ]
  },
  {
   "cell_type": "code",
   "execution_count": null,
   "metadata": {},
   "outputs": [],
   "source": [
    "coverage = 1192 "
   ]
  },
  {
   "cell_type": "code",
   "execution_count": 350,
   "metadata": {},
   "outputs": [
    {
     "data": {
      "image/png": "[encoded data removed]",
      "text/plain": [
       "<Figure size 432x288 with 1 Axes>"
      ]
     },
     "metadata": {
      "needs_background": "light"
     },
     "output_type": "display_data"
    },
    {
     "data": {
      "image/png": "[encoded data removed]",
      "text/plain": [
       "<Figure size 432x288 with 1 Axes>"
      ]
     },
     "metadata": {
      "needs_background": "light"
     },
     "output_type": "display_data"
    },
    {
     "data": {
      "image/png": "[encoded data removed]",
      "text/plain": [
       "<Figure size 432x288 with 1 Axes>"
      ]
     },
     "metadata": {
      "needs_background": "light"
     },
     "output_type": "display_data"
    },
    {
     "data": {
      "text/plain": [
       "0.7718718"
      ]
     },
     "execution_count": 350,
     "metadata": {},
     "output_type": "execute_result"
    }
   ],
   "source": [
    "find_ev(df['Qcps_x'], xmm_exp)"
   ]
  },
  {
   "cell_type": "code",
   "execution_count": 357,
   "metadata": {},
   "outputs": [
    {
     "data": {
      "text/plain": [
       "(array([2.888e+04, 3.400e+01, 1.100e+01, 0.000e+00, 0.000e+00, 0.000e+00,\n",
       "        6.100e+01, 6.000e+00, 6.000e+00, 3.950e+02]),\n",
       " array([    0. ,  8639.9, 17279.8, 25919.7, 34559.6, 43199.5, 51839.4,\n",
       "        60479.3, 69119.2, 77759.1, 86399. ]),\n",
       " <a list of 10 Patch objects>)"
      ]
     },
     "execution_count": 357,
     "metadata": {},
     "output_type": "execute_result"
    },
    {
     "data": {
      "image/png": "[encoded data removed]",
      "text/plain": [
       "<Figure size 432x288 with 1 Axes>"
      ]
     },
     "metadata": {
      "needs_background": "light"
     },
     "output_type": "display_data"
    }
   ],
   "source": [
    "plt.hist(xmmsl_exp)"
   ]
  },
  {
   "cell_type": "code",
   "execution_count": 356,
   "metadata": {
    "scrolled": true
   },
   "outputs": [
    {
     "name": "stderr",
     "output_type": "stream",
     "text": [
      "/epyc/opt/anaconda/lib/python3.7/site-packages/ipykernel_launcher.py:3: RuntimeWarning: divide by zero encountered in log10\n",
      "  This is separate from the ipykernel package so we can avoid doing imports until\n"
     ]
    },
    {
     "data": {
      "image/png": "[encoded data removed]",
      "text/plain": [
       "<Figure size 432x288 with 1 Axes>"
      ]
     },
     "metadata": {
      "needs_background": "light"
     },
     "output_type": "display_data"
    },
    {
     "data": {
      "image/png": "[encoded data removed]",
      "text/plain": [
       "<Figure size 432x288 with 1 Axes>"
      ]
     },
     "metadata": {
      "needs_background": "light"
     },
     "output_type": "display_data"
    },
    {
     "data": {
      "image/png": "[encoded data removed]",
      "text/plain": [
       "<Figure size 432x288 with 1 Axes>"
      ]
     },
     "metadata": {
      "needs_background": "light"
     },
     "output_type": "display_data"
    },
    {
     "data": {
      "text/plain": [
       "0.0"
      ]
     },
     "execution_count": 356,
     "metadata": {},
     "output_type": "execute_result"
    }
   ],
   "source": [
    "find_ev(df['Qcps_x'], xmmsl_exp.astype(float))"
   ]
  },
  {
   "cell_type": "code",
   "execution_count": null,
   "metadata": {},
   "outputs": [],
   "source": []
  },
  {
   "cell_type": "code",
   "execution_count": 127,
   "metadata": {},
   "outputs": [],
   "source": [
    "df['Ocps_r'] = ROSAT_approx(df['Oflux'])"
   ]
  },
  {
   "cell_type": "code",
   "execution_count": 114,
   "metadata": {},
   "outputs": [],
   "source": [
    "df['Qcps_ch'] = chandra_approx(df['Qflux'])"
   ]
  },
  {
   "cell_type": "code",
   "execution_count": 120,
   "metadata": {},
   "outputs": [
    {
     "data": {
      "text/plain": [
       "<matplotlib.axes._subplots.AxesSubplot at 0x7f8944895bd0>"
      ]
     },
     "execution_count": 120,
     "metadata": {},
     "output_type": "execute_result"
    },
    {
     "data": {
      "image/png": "[encoded data removed]",
      "text/plain": [
       "<Figure size 432x288 with 1 Axes>"
      ]
     },
     "metadata": {
      "needs_background": "light"
     },
     "output_type": "display_data"
    }
   ],
   "source": [
    "df['Qcps_ch'].hist(bins=np.logspace(-5, -3, 20))"
   ]
  },
  {
   "cell_type": "code",
   "execution_count": 124,
   "metadata": {},
   "outputs": [
    {
     "data": {
      "text/plain": [
       "0.95000    0.000146\n",
       "0.99000    0.000576\n",
       "0.99900    0.004280\n",
       "0.99990    0.026491\n",
       "0.99999    0.137442\n",
       "1.00000    4.947915\n",
       "Name: Qcps_ch, dtype: float64"
      ]
     },
     "execution_count": 124,
     "metadata": {},
     "output_type": "execute_result"
    }
   ],
   "source": [
    "df['Qcps_ch'].quantile([.95, .99, .999, .9999, .99999, 1])"
   ]
  },
  {
   "cell_type": "code",
   "execution_count": 128,
   "metadata": {},
   "outputs": [
    {
     "data": {
      "text/plain": [
       "0.95000    0.000014\n",
       "0.99000    0.000054\n",
       "0.99900    0.000405\n",
       "0.99990    0.002505\n",
       "0.99999    0.012999\n",
       "1.00000    0.467951\n",
       "Name: Qcps_r, dtype: float64"
      ]
     },
     "execution_count": 128,
     "metadata": {},
     "output_type": "execute_result"
    }
   ],
   "source": [
    "df['Qcps_r'].quantile([.95, .99, .999, .9999, .99999, 1])"
   ]
  },
  {
   "cell_type": "code",
   "execution_count": 130,
   "metadata": {},
   "outputs": [
    {
     "data": {
      "text/plain": [
       "20"
      ]
     },
     "execution_count": 130,
     "metadata": {},
     "output_type": "execute_result"
    }
   ],
   "source": [
    "(df['Qcps_r'] > 0.05).sum()"
   ]
  },
  {
   "cell_type": "code",
   "execution_count": 133,
   "metadata": {},
   "outputs": [
    {
     "data": {
      "text/plain": [
       "11"
      ]
     },
     "execution_count": 133,
     "metadata": {},
     "output_type": "execute_result"
    }
   ],
   "source": [
    "(df['Qcps_r'] > 0.1).sum()"
   ]
  },
  {
   "cell_type": "code",
   "execution_count": 255,
   "metadata": {},
   "outputs": [
    {
     "data": {
      "text/plain": [
       "0.10000      0.000011\n",
       "0.50000      0.000064\n",
       "0.95000      0.000450\n",
       "0.99000      0.002375\n",
       "0.99900      0.028726\n",
       "0.99990      0.224182\n",
       "0.99999      2.416028\n",
       "1.00000    136.884544\n",
       "Name: Qcps_r, dtype: float64"
      ]
     },
     "execution_count": 255,
     "metadata": {},
     "output_type": "execute_result"
    }
   ],
   "source": [
    "df['Qcps_r'].quantile([.1, .5, .95, .99, .999, .9999, .99999, 1])"
   ]
  },
  {
   "cell_type": "code",
   "execution_count": null,
   "metadata": {},
   "outputs": [],
   "source": []
  },
  {
   "cell_type": "code",
   "execution_count": 101,
   "metadata": {},
   "outputs": [
    {
     "data": {
      "text/plain": [
       "Text(0, 0.5, 'Counts/s')"
      ]
     },
     "execution_count": 101,
     "metadata": {},
     "output_type": "execute_result"
    },
    {
     "data": {
      "image/png": "[encoded data removed]",
      "text/plain": [
       "<Figure size 432x288 with 1 Axes>"
      ]
     },
     "metadata": {
      "needs_background": "light"
     },
     "output_type": "display_data"
    }
   ],
   "source": [
    "fig, ax = plt.subplots()\n",
    "# optionally make log scale\n",
    "ax.set_xscale(\"log\", nonposx='clip')\n",
    "df.plot(x='nH', y='ACIS-I', ax=ax)\n",
    "df.plot(x='nH', y='ACIS-S', ax=ax)\n",
    "plt.ylabel('Counts/s')"
   ]
  },
  {
   "cell_type": "code",
   "execution_count": null,
   "metadata": {},
   "outputs": [],
   "source": [
    "hearsac_chandra"
   ]
  },
  {
   "cell_type": "code",
   "execution_count": 91,
   "metadata": {},
   "outputs": [],
   "source": [
    "import astropy.units as u"
   ]
  },
  {
   "cell_type": "code",
   "execution_count": 95,
   "metadata": {},
   "outputs": [
    {
     "data": {
      "text/latex": [
       "$1.1751996 \\times 10^{64} \\; \\mathrm{}$"
      ],
      "text/plain": [
       "<Quantity 1.17519958e+64>"
      ]
     },
     "execution_count": 95,
     "metadata": {},
     "output_type": "execute_result"
    }
   ],
   "source": [
    "(0.01 * u.cm**-3 * 40 * u.kpc**3).decompose()"
   ]
  },
  {
   "cell_type": "code",
   "execution_count": 96,
   "metadata": {},
   "outputs": [
    {
     "data": {
      "text/plain": [
       "1.414213562373095"
      ]
     },
     "execution_count": 96,
     "metadata": {},
     "output_type": "execute_result"
    }
   ],
   "source": [
    "4/(2**1.5)"
   ]
  },
  {
   "cell_type": "code",
   "execution_count": 97,
   "metadata": {},
   "outputs": [
    {
     "data": {
      "text/plain": [
       "0.5641895835477563"
      ]
     },
     "execution_count": 97,
     "metadata": {},
     "output_type": "execute_result"
    }
   ],
   "source": [
    "np.pi/(np.pi**1.5)"
   ]
  },
  {
   "cell_type": "code",
   "execution_count": 98,
   "metadata": {},
   "outputs": [
    {
     "data": {
      "text/plain": [
       "0.5641895835477563"
      ]
     },
     "execution_count": 98,
     "metadata": {},
     "output_type": "execute_result"
    }
   ],
   "source": [
    "1/(np.sqrt(np.pi))"
   ]
  },
  {
   "cell_type": "markdown",
   "metadata": {},
   "source": [
    " ROSAT PSPC countrate of 0.05 cts/s in the energy band 0.1- 2.4 keV"
   ]
  },
  {
   "cell_type": "code",
   "execution_count": null,
   "metadata": {},
   "outputs": [],
   "source": []
  }
 ],
 "metadata": {
  "kernelspec": {
   "display_name": "Python 3",
   "language": "python",
   "name": "python3"
  },
  "language_info": {
   "codemirror_mode": {
    "name": "ipython",
    "version": 3
   },
   "file_extension": ".py",
   "mimetype": "text/x-python",
   "name": "python",
   "nbconvert_exporter": "python",
   "pygments_lexer": "ipython3",
   "version": "3.7.6"
  }
 },
 "nbformat": 4,
 "nbformat_minor": 2
}
