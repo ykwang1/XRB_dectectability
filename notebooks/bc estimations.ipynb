{
 "cells": [
  {
   "cell_type": "code",
   "execution_count": 1,
   "id": "3e33a6f6",
   "metadata": {},
   "outputs": [],
   "source": [
    "import numpy as np\n",
    "import matplotlib.pyplot as plt\n",
    "import pandas as pd\n",
    "import astropy.units as u\n",
    "from astropy.constants import c\n",
    "from scipy.interpolate import interp1d\n",
    "\n",
    "from astropy.io import fits\n",
    "from astropy.coordinates import SkyCoord\n",
    "from astropy.table import Table\n",
    "from astroquery.simbad import Simbad\n",
    "\n"
   ]
  },
  {
   "cell_type": "code",
   "execution_count": 2,
   "id": "dafc86f5",
   "metadata": {},
   "outputs": [],
   "source": [
    "from astroquery.irsa_dust import IrsaDust"
   ]
  },
  {
   "cell_type": "markdown",
   "id": "7b4b4464",
   "metadata": {},
   "source": [
    "## Read BlackCAT and preprocess"
   ]
  },
  {
   "cell_type": "code",
   "execution_count": null,
   "id": "8612b9ae",
   "metadata": {},
   "outputs": [],
   "source": [
    "data_dir = \"/epyc/data/\"\n",
    "\n",
    "bc = pd.read_csv('../data/BlackCATscrape.csv')"
   ]
  },
  {
   "cell_type": "code",
   "execution_count": 3,
   "id": "c7475e43",
   "metadata": {},
   "outputs": [],
   "source": [
    "fx_mean = bc['fxpeak\\n[2-10] keV\\n[erg s-1 cm-2]'].mean() * u.erg / u.s / u.cm ** 2"
   ]
  },
  {
   "cell_type": "code",
   "execution_count": 4,
   "id": "99388ea7",
   "metadata": {},
   "outputs": [
    {
     "data": {
      "text/latex": [
       "$1.503662 \\times 10^{38} \\; \\mathrm{\\frac{erg}{s}}$"
      ],
      "text/plain": [
       "<Quantity 1.50366195e+38 erg / s>"
      ]
     },
     "execution_count": 4,
     "metadata": {},
     "output_type": "execute_result"
    }
   ],
   "source": [
    "(fx_mean.to(u.erg / u.s / u.cm**2) * 4 * np.pi * (4 * u.kpc) ** 2).to(u.erg/u.s)"
   ]
  },
  {
   "cell_type": "code",
   "execution_count": 5,
   "id": "e6636cdc",
   "metadata": {
    "scrolled": true
   },
   "outputs": [
    {
     "data": {
      "text/plain": [
       "<matplotlib.axes._subplots.AxesSubplot at 0x7f6edf8a4990>"
      ]
     },
     "execution_count": 5,
     "metadata": {},
     "output_type": "execute_result"
    },
    {
     "data": {
      "image/png": "[encoded data removed]",
      "text/plain": [
       "<Figure size 432x288 with 1 Axes>"
      ]
     },
     "metadata": {
      "needs_background": "light"
     },
     "output_type": "display_data"
    }
   ],
   "source": [
    "np.log10(bc['fxpeak\\n[2-10] keV\\n[erg s-1 cm-2]']).hist()"
   ]
  },
  {
   "cell_type": "markdown",
   "id": "5fac36be",
   "metadata": {},
   "source": [
    "### extract distance and magnitudes out of data format\n",
    "ignore lower and upper limits"
   ]
  },
  {
   "cell_type": "code",
   "execution_count": 8,
   "id": "589c3e82",
   "metadata": {},
   "outputs": [],
   "source": [
    "def extract_distance(d_str):\n",
    "    d_err = np.nan\n",
    "    if str(d_str) == 'nan':\n",
    "        return [np.nan] * 2\n",
    "    if '/' in d_str:\n",
    "        return [np.nan] * 2\n",
    "    if '±' in d_str:\n",
    "        d, d_err = d_str.split('±')\n",
    "        if '-' in d_err:\n",
    "            d_err = np.mean([float(x) for x in d_str.split('-')])\n",
    "        d_err = float(d_err)\n",
    "        if '∼' in d:\n",
    "            d = d[1:]\n",
    "    elif '∼' in d_str:\n",
    "        sep = d_str[1:]\n",
    "        if '±' in sep[0]:\n",
    "            d, d_err = sep[1].split('±')\n",
    "            d_err = float(d_err)\n",
    "        else:\n",
    "            # import pdb; pdb.set_trace()\n",
    "            d = sep[0]\n",
    "    elif '+' in d_str:\n",
    "        sep = d_str.split('+')\n",
    "        d = sep[0]\n",
    "        if '-' in sep[1]:\n",
    "            d_err = np.mean([float(x) for x in sep[1].split('-')])\n",
    "    elif '-' in d_str:\n",
    "        ds = [float(x) for x in d_str.split('-')]\n",
    "        d = np.mean(ds)\n",
    "        d_err = (ds[1] - ds[0]) / 2\n",
    "    elif '≥' in d_str:\n",
    "        return [np.nan] * 2\n",
    "    elif '>' in d_str:\n",
    "        return [np.nan] * 2\n",
    "    elif '<' in d_str:\n",
    "        return [np.nan] * 2\n",
    "    return float(d), d_err\n",
    "    "
   ]
  },
  {
   "cell_type": "code",
   "execution_count": 9,
   "id": "5b9df03c",
   "metadata": {
    "scrolled": true
   },
   "outputs": [],
   "source": [
    "test = [extract_distance(d) for d in bc['d \\n[kpc]']]\n",
    "d = pd.DataFrame(test, columns = ['d', 'd_err'])"
   ]
  },
  {
   "cell_type": "code",
   "execution_count": 10,
   "id": "de80b883",
   "metadata": {},
   "outputs": [],
   "source": [
    "def extract_band_mag(mag_str):\n",
    "    mag_err = np.nan\n",
    "    if str(mag_str) == 'nan':\n",
    "        return [np.nan] * 3\n",
    "    if '=' in mag_str:\n",
    "        sep = mag_str.split('=')\n",
    "        band = sep[0]\n",
    "        if '±' in sep[1]:\n",
    "            mag, mag_err = sep[1].split('±')\n",
    "            mag_err = float(mag_err)\n",
    "        else:\n",
    "            mag = sep[1]\n",
    "    elif '∼' in mag_str:\n",
    "        sep = mag_str.split('∼')\n",
    "        band = sep[0]\n",
    "        if '±' in sep[1]:\n",
    "            mag, mag_err = sep[1].split('±')\n",
    "            mag_err = float(mag_err)\n",
    "        else:\n",
    "            mag = sep[1]\n",
    "    elif '>' in mag_str:\n",
    "        return [np.nan] * 3\n",
    "    elif '≥' in mag_str:\n",
    "        return [np.nan] * 3\n",
    "    elif '<' in mag_str:\n",
    "        return [np.nan] * 3\n",
    "    return band, float(mag), mag_err\n",
    "    "
   ]
  },
  {
   "cell_type": "code",
   "execution_count": 11,
   "id": "1ee8c25b",
   "metadata": {},
   "outputs": [],
   "source": [
    "test = [extract_band_mag(mag) for mag in bc['Magnitude\\nOutburst (AB)']]\n",
    "ob = pd.DataFrame(test, columns = ['ob_band', 'ob_mag', 'ob_mag_err'])"
   ]
  },
  {
   "cell_type": "code",
   "execution_count": 12,
   "id": "a45481ec",
   "metadata": {},
   "outputs": [],
   "source": [
    "test = [extract_band_mag(mag) for mag in bc['Mag. \\nQuies. (AB)']]\n",
    "q = pd.DataFrame(test, columns = ['q_band', 'q_mag', 'q_mag_err'])"
   ]
  },
  {
   "cell_type": "code",
   "execution_count": 13,
   "id": "5fd1a5c1",
   "metadata": {
    "scrolled": true
   },
   "outputs": [],
   "source": [
    "for col in d.columns:\n",
    "    bc[col] = d[col]\n",
    "for col in ob.columns:\n",
    "    bc[col] = ob[col]\n",
    "for col in q.columns:\n",
    "    bc[col] = q[col]"
   ]
  },
  {
   "cell_type": "markdown",
   "id": "a2ce5e8f",
   "metadata": {},
   "source": [
    "# Compute Luminosity of sources"
   ]
  },
  {
   "cell_type": "markdown",
   "id": "a41de106",
   "metadata": {},
   "source": [
    "### drop to subset with measured distances"
   ]
  },
  {
   "cell_type": "code",
   "execution_count": 14,
   "id": "f329069a",
   "metadata": {},
   "outputs": [],
   "source": [
    "df = bc.dropna(subset=['d'])"
   ]
  },
  {
   "cell_type": "code",
   "execution_count": 15,
   "id": "3e47c62e",
   "metadata": {},
   "outputs": [
    {
     "data": {
      "text/plain": [
       "32"
      ]
     },
     "execution_count": 15,
     "metadata": {},
     "output_type": "execute_result"
    }
   ],
   "source": [
    "len(df)"
   ]
  },
  {
   "cell_type": "markdown",
   "id": "a2e42245",
   "metadata": {},
   "source": [
    "### Calculate peak luminosity"
   ]
  },
  {
   "cell_type": "code",
   "execution_count": 16,
   "id": "d76a5344",
   "metadata": {},
   "outputs": [],
   "source": [
    "Lx = df['fxpeak\\n[2-10] keV\\n[erg s-1 cm-2]'].values * ((df['d'].values * u.kpc)**2).to(u.cm**2).value * 4 * np.pi"
   ]
  },
  {
   "cell_type": "code",
   "execution_count": null,
   "id": "fc6eb67f",
   "metadata": {},
   "outputs": [],
   "source": [
    "df['Lx'] = df['fxpeak\\n[2-10] keV\\n[erg s-1 cm-2]'] * 4 * np.pi * (df['d'] * u.kpc.to(u.cm)) ** 2"
   ]
  },
  {
   "cell_type": "code",
   "execution_count": 17,
   "id": "93a994d4",
   "metadata": {},
   "outputs": [
    {
     "data": {
      "text/plain": [
       "(array([2., 0., 1., 1., 5., 4., 5., 5., 5., 4.]),\n",
       " array([35.11133471, 35.51056158, 35.90978845, 36.30901532, 36.70824219,\n",
       "        37.10746906, 37.50669593, 37.9059228 , 38.30514967, 38.70437654,\n",
       "        39.10360342]),\n",
       " <a list of 10 Patch objects>)"
      ]
     },
     "execution_count": 17,
     "metadata": {},
     "output_type": "execute_result"
    },
    {
     "data": {
      "image/png": "[encoded data removed]",
      "text/plain": [
       "<Figure size 432x288 with 1 Axes>"
      ]
     },
     "metadata": {
      "needs_background": "light"
     },
     "output_type": "display_data"
    }
   ],
   "source": [
    "plt.hist(np.log10(Lx))"
   ]
  },
  {
   "cell_type": "markdown",
   "id": "f640d3c6",
   "metadata": {},
   "source": [
    "### Look at distribution of OIR bands"
   ]
  },
  {
   "cell_type": "code",
   "execution_count": 18,
   "id": "1127b87a",
   "metadata": {
    "scrolled": true
   },
   "outputs": [
    {
     "data": {
      "text/plain": [
       "V             12\n",
       "R              5\n",
       "I              3\n",
       "J              2\n",
       "i’             1\n",
       "v              1\n",
       "g'             1\n",
       "Ks             1\n",
       "H              1\n",
       "B              1\n",
       "K (not AB)     1\n",
       "Name: ob_band, dtype: int64"
      ]
     },
     "execution_count": 18,
     "metadata": {},
     "output_type": "execute_result"
    }
   ],
   "source": [
    "df['ob_band'].value_counts()"
   ]
  },
  {
   "cell_type": "code",
   "execution_count": 19,
   "id": "10e4bf04",
   "metadata": {},
   "outputs": [
    {
     "name": "stderr",
     "output_type": "stream",
     "text": [
      "/epyc/opt/anaconda/lib/python3.7/site-packages/ipykernel_launcher.py:1: SettingWithCopyWarning: \n",
      "A value is trying to be set on a copy of a slice from a DataFrame.\n",
      "Try using .loc[row_indexer,col_indexer] = value instead\n",
      "\n",
      "See the caveats in the documentation: https://pandas.pydata.org/pandas-docs/stable/user_guide/indexing.html#returning-a-view-versus-a-copy\n",
      "  \"\"\"Entry point for launching an IPython kernel.\n"
     ]
    }
   ],
   "source": [
    "df['Name'] = df['Name \\n(Counterpart)'].str.split('\\n').str[0].str.strip()"
   ]
  },
  {
   "cell_type": "markdown",
   "id": "815c4d95",
   "metadata": {},
   "source": [
    "## Use irsa to get extinction at observed band and position"
   ]
  },
  {
   "cell_type": "code",
   "execution_count": 20,
   "id": "0a66d45e",
   "metadata": {},
   "outputs": [],
   "source": [
    "width = {'V': 107.3, }\n",
    "\n",
    "def get_filter_name(band):\n",
    "    filters = ['CTIO U', 'CTIO B', 'CTIO V', 'CTIO R', 'CTIO I', 'DSS-II g',\n",
    "       'DSS-II r', 'DSS-II i', 'SDSS u', 'SDSS g', 'SDSS r', 'SDSS i',\n",
    "       'SDSS z', 'UKIRT J', 'UKIRT H', 'UKIRT K', '2MASS J', '2MASS H',\n",
    "       '2MASS Ks', 'IRAC-1', 'IRAC-2', 'IRAC-3', 'IRAC-4', 'WISE-1',\n",
    "       'WISE-2']\n",
    "    if str(band) == 'nan':\n",
    "        return np.nan\n",
    "    if band == 'Ks':\n",
    "        return '2MASS Ks'\n",
    "    else:\n",
    "        for f in filters:\n",
    "            if band[0] == f[-1]:\n",
    "                return f"
   ]
  },
  {
   "cell_type": "code",
   "execution_count": 21,
   "id": "9941d15a",
   "metadata": {},
   "outputs": [
    {
     "name": "stderr",
     "output_type": "stream",
     "text": [
      "/epyc/opt/anaconda/lib/python3.7/site-packages/ipykernel_launcher.py:1: SettingWithCopyWarning: \n",
      "A value is trying to be set on a copy of a slice from a DataFrame.\n",
      "Try using .loc[row_indexer,col_indexer] = value instead\n",
      "\n",
      "See the caveats in the documentation: https://pandas.pydata.org/pandas-docs/stable/user_guide/indexing.html#returning-a-view-versus-a-copy\n",
      "  \"\"\"Entry point for launching an IPython kernel.\n"
     ]
    }
   ],
   "source": [
    "df['ob_filter'] = [get_filter_name(b) for b in df['ob_band']]"
   ]
  },
  {
   "cell_type": "code",
   "execution_count": 22,
   "id": "ba03b937",
   "metadata": {},
   "outputs": [
    {
     "name": "stderr",
     "output_type": "stream",
     "text": [
      "/epyc/opt/anaconda/lib/python3.7/site-packages/ipykernel_launcher.py:1: SettingWithCopyWarning: \n",
      "A value is trying to be set on a copy of a slice from a DataFrame.\n",
      "Try using .loc[row_indexer,col_indexer] = value instead\n",
      "\n",
      "See the caveats in the documentation: https://pandas.pydata.org/pandas-docs/stable/user_guide/indexing.html#returning-a-view-versus-a-copy\n",
      "  \"\"\"Entry point for launching an IPython kernel.\n"
     ]
    }
   ],
   "source": [
    "df['q_filter'] = [get_filter_name(b) for b in df['q_band']]"
   ]
  },
  {
   "cell_type": "markdown",
   "id": "d5106f13",
   "metadata": {},
   "source": [
    "### avg diff between outburst and quiescent magnitudes\n",
    "excludes upper limits so this is probably underestimated"
   ]
  },
  {
   "cell_type": "code",
   "execution_count": 24,
   "id": "1e47617e",
   "metadata": {},
   "outputs": [
    {
     "data": {
      "text/plain": [
       "-4.736071428571429"
      ]
     },
     "execution_count": 24,
     "metadata": {},
     "output_type": "execute_result"
    }
   ],
   "source": [
    "(ob['ob_mag'] - q['q_mag']).dropna().mean()"
   ]
  },
  {
   "cell_type": "code",
   "execution_count": 25,
   "id": "deb4d3e0",
   "metadata": {},
   "outputs": [
    {
     "data": {
      "text/plain": [
       "<matplotlib.axes._subplots.AxesSubplot at 0x7f6edf7e3090>"
      ]
     },
     "execution_count": 25,
     "metadata": {},
     "output_type": "execute_result"
    },
    {
     "data": {
      "image/png": "[encoded data removed]",
      "text/plain": [
       "<Figure size 432x288 with 1 Axes>"
      ]
     },
     "metadata": {
      "needs_background": "light"
     },
     "output_type": "display_data"
    }
   ],
   "source": [
    "ob['ob_mag'].hist()"
   ]
  },
  {
   "cell_type": "markdown",
   "id": "41fb89c4",
   "metadata": {},
   "source": [
    "### Query for extinctions and correct magitudes\n",
    "\n",
    "Also calculate OIR luminosities???"
   ]
  },
  {
   "cell_type": "code",
   "execution_count": 26,
   "id": "9d0fb85c",
   "metadata": {
    "scrolled": true
   },
   "outputs": [
    {
     "name": "stdout",
     "output_type": "stream",
     "text": [
      "MAXI J1305-704\n",
      "MAXI J1836-194\n",
      "MAXI J1659-152\n",
      "XTE J1752-223\n",
      "XTE J1817-330\n",
      "XTE J1818-245\n",
      "Swift J1753.5-0127\n",
      "IGR J17098-3628\n",
      "XTE J1720-318\n",
      "XTE J1908+094\n",
      "XTE J1650-500\n",
      "XTE J1118+480\n",
      "XTE J1859+226\n",
      "SAX J1819.3-2525\n",
      "XTE J1550-564\n",
      "GRS 1739-278\n",
      "GRO J1655-40\n",
      "GRS 1716-249\n",
      "GRS 1009-45\n",
      "GRS 1915+105\n",
      "GRO J0422+32\n",
      "GRS 1124-684\n",
      "GS 2023+338\n",
      "GS 2000+251\n",
      "GS 1354-64\n",
      "EXO 1846-031\n",
      "H 1705-250\n",
      "H 1743-322\n",
      "3A 0620-003\n",
      "4U 1755-338\n",
      "4U 1543-475\n",
      "4U 1630-472\n"
     ]
    }
   ],
   "source": [
    "ext_corr_mag_ob = []\n",
    "central_ll = []\n",
    "L_opt = []\n",
    "del_ll = 100 * u.nm\n",
    "for obj in df['Name']:\n",
    "    print(obj)\n",
    "    table = IrsaDust.get_extinction_table(obj)\n",
    "    table = table.to_pandas().set_index('Filter_name')\n",
    "    \n",
    "    f = df.query(f'Name== \"{obj}\"')['ob_filter'].iloc[0]\n",
    "    d = df.query(f'Name== \"{obj}\"')['d'].iloc[0]    \n",
    "    if not pd.isna(f):\n",
    "        ll, A_AV, _, __, A = table.loc[f]\n",
    "        central_ll.append(ll * 1000)\n",
    "        mag = df.query(f'Name== \"{obj}\"')['ob_mag'].iloc[0] - A\n",
    "        L = ((mag * u.ABmag).to(u.Jy) * \\\n",
    "             4 * np.pi *  (d * u.kpc) **2 * \\\n",
    "             (c * del_ll / (ll * u.um) ** 2)\n",
    "            ).to(u.erg/u.s) \n",
    "        ext_corr_mag_ob.append(mag)\n",
    "        L_opt.append(L.value)\n",
    "        \n",
    "    else:\n",
    "        central_ll.append(np.nan)\n",
    "        ext_corr_mag_ob.append(np.nan)\n",
    "        L_opt.append(np.nan)\n",
    "    \n",
    "    "
   ]
  },
  {
   "cell_type": "code",
   "execution_count": 27,
   "id": "8bd48602",
   "metadata": {
    "scrolled": true
   },
   "outputs": [
    {
     "name": "stderr",
     "output_type": "stream",
     "text": [
      "/epyc/opt/anaconda/lib/python3.7/site-packages/ipykernel_launcher.py:1: SettingWithCopyWarning: \n",
      "A value is trying to be set on a copy of a slice from a DataFrame.\n",
      "Try using .loc[row_indexer,col_indexer] = value instead\n",
      "\n",
      "See the caveats in the documentation: https://pandas.pydata.org/pandas-docs/stable/user_guide/indexing.html#returning-a-view-versus-a-copy\n",
      "  \"\"\"Entry point for launching an IPython kernel.\n",
      "/epyc/opt/anaconda/lib/python3.7/site-packages/ipykernel_launcher.py:2: SettingWithCopyWarning: \n",
      "A value is trying to be set on a copy of a slice from a DataFrame.\n",
      "Try using .loc[row_indexer,col_indexer] = value instead\n",
      "\n",
      "See the caveats in the documentation: https://pandas.pydata.org/pandas-docs/stable/user_guide/indexing.html#returning-a-view-versus-a-copy\n",
      "  \n"
     ]
    }
   ],
   "source": [
    "df['Lx'] = Lx\n",
    "df['L_opt'] = L_opt"
   ]
  },
  {
   "cell_type": "code",
   "execution_count": 28,
   "id": "8d3e7114",
   "metadata": {
    "scrolled": true
   },
   "outputs": [
    {
     "name": "stderr",
     "output_type": "stream",
     "text": [
      "/epyc/opt/anaconda/lib/python3.7/site-packages/ipykernel_launcher.py:1: SettingWithCopyWarning: \n",
      "A value is trying to be set on a copy of a slice from a DataFrame.\n",
      "Try using .loc[row_indexer,col_indexer] = value instead\n",
      "\n",
      "See the caveats in the documentation: https://pandas.pydata.org/pandas-docs/stable/user_guide/indexing.html#returning-a-view-versus-a-copy\n",
      "  \"\"\"Entry point for launching an IPython kernel.\n"
     ]
    }
   ],
   "source": [
    "df['corr_mag'] = ext_corr_mag_ob"
   ]
  },
  {
   "cell_type": "code",
   "execution_count": null,
   "id": "b8d2a1fa",
   "metadata": {},
   "outputs": [],
   "source": []
  },
  {
   "cell_type": "code",
   "execution_count": 29,
   "id": "0f3411b1",
   "metadata": {},
   "outputs": [],
   "source": [
    "data = df.dropna(subset = ['L_opt'])"
   ]
  },
  {
   "cell_type": "code",
   "execution_count": 30,
   "id": "2b1c4142",
   "metadata": {},
   "outputs": [
    {
     "data": {
      "text/plain": [
       "28"
      ]
     },
     "execution_count": 30,
     "metadata": {},
     "output_type": "execute_result"
    }
   ],
   "source": [
    "len(data)"
   ]
  },
  {
   "cell_type": "markdown",
   "id": "0b0a5a77",
   "metadata": {},
   "source": [
    "### X-ray vs OIR luminosity"
   ]
  },
  {
   "cell_type": "code",
   "execution_count": null,
   "id": "ebb0ce51",
   "metadata": {},
   "outputs": [],
   "source": [
    "data.loc[data['ob_band'] == 'V'].plot.scatter(x='ob_mag', y='fxpeak\\n[2-10] keV\\n[erg s-1 cm-2]', color='plot_color', ax=ax)\n"
   ]
  },
  {
   "cell_type": "code",
   "execution_count": 75,
   "id": "2112bc80",
   "metadata": {
    "scrolled": true
   },
   "outputs": [
    {
     "data": {
      "text/plain": [
       "<matplotlib.collections.PathCollection at 0x7f6e7400b390>"
      ]
     },
     "execution_count": 75,
     "metadata": {},
     "output_type": "execute_result"
    },
    {
     "data": {
      "image/png": "[encoded data removed]",
      "text/plain": [
       "<Figure size 432x288 with 1 Axes>"
      ]
     },
     "metadata": {
      "needs_background": "light"
     },
     "output_type": "display_data"
    }
   ],
   "source": [
    "plt.scatter(np.log10(data[data['ob_band'] == 'V']['Lx']), np.log10(data[data['ob_band'] == 'V']['L_opt']))\n",
    "plt.scatter(np.log10(data[~(data['ob_band'] == 'V')]['Lx']), np.log10(data[~(data['ob_band'] == 'V')]['L_opt']))"
   ]
  },
  {
   "cell_type": "markdown",
   "id": "95b86057",
   "metadata": {},
   "source": [
    "### Use GMM to generate more data"
   ]
  },
  {
   "cell_type": "code",
   "execution_count": 34,
   "id": "3f2650de",
   "metadata": {
    "scrolled": true
   },
   "outputs": [],
   "source": [
    "import numpy as np\n",
    "from matplotlib import pyplot as plt\n",
    "from scipy.stats import norm\n",
    "from sklearn.mixture import GaussianMixture, BayesianGaussianMixture\n",
    "from astroML.utils import convert_2D_cov\n",
    "from astroML.plotting.tools import draw_ellipse\n",
    "\n",
    "X = np.array([np.log10(data['Lx']), np.log10(data['L_opt'])]).T\n",
    "\n"
   ]
  },
  {
   "cell_type": "code",
   "execution_count": 35,
   "id": "b3cf03fd",
   "metadata": {},
   "outputs": [
    {
     "name": "stderr",
     "output_type": "stream",
     "text": [
      "/epyc/opt/anaconda/lib/python3.7/site-packages/sklearn/mixture/_base.py:267: ConvergenceWarning: Initialization 1 did not converge. Try different init parameters, or increase max_iter, tol or check for degenerate data.\n",
      "  % (init + 1), ConvergenceWarning)\n",
      "/epyc/opt/anaconda/lib/python3.7/site-packages/sklearn/mixture/_base.py:267: ConvergenceWarning: Initialization 1 did not converge. Try different init parameters, or increase max_iter, tol or check for degenerate data.\n",
      "  % (init + 1), ConvergenceWarning)\n"
     ]
    },
    {
     "data": {
      "image/png": "[encoded data removed]",
      "text/plain": [
       "<Figure size 576x576 with 4 Axes>"
      ]
     },
     "metadata": {
      "needs_background": "light"
     },
     "output_type": "display_data"
    }
   ],
   "source": [
    "#------------------------------------------------------------\n",
    "# Compute and plot the results\n",
    "fig = plt.figure(figsize=(8, 8))\n",
    "\n",
    "def plot_gmm_solution(ax, clf, iterations):  \n",
    "    ax.plot(X[:, 0], X[:, 1], '.', c='red', ms=1, zorder=1)\n",
    "    ax.set_xlim(X[:,0].min(), X[:,0].max())\n",
    "    ax.set_ylim(X[:,1].min(), X[:,1].max())\n",
    "    ax.set_ylabel('$y$')\n",
    "    ax.set_xlabel('$x$')\n",
    "    \n",
    "    for i in range(clf.n_components):\n",
    "        mean = clf.means_[i]\n",
    "        cov = clf.covariances_[i]\n",
    "        if cov.ndim == 1:\n",
    "            cov = np.diag(cov)\n",
    "        draw_ellipse(mean, cov, ax=ax, fc='none', ec='k',ls=linestyles[i], zorder=2)\n",
    "    \n",
    "    ax.text(0.05, 0.95, \"%i iterations\" % iterations,\n",
    "        ha='left', va='top', transform=ax.transAxes,\n",
    "        bbox=dict(fc='w', ec='k'))\n",
    "\n",
    " \n",
    "linestyles = ['-', '--', ':']\n",
    "np.random.seed(1)\n",
    "#plot solutions as a function of iteration\n",
    "def fitAndPlot(X, n_components=1, n_iter=100):\n",
    "    \n",
    "    for i,iter in enumerate(np.logspace(0, np.log10(n_iter), 4, dtype=int)):\n",
    "        clf = GaussianMixture(n_components, random_state=np.random.seed(1), \n",
    "                              max_iter=iter, init_params='random').fit(X)\n",
    "\n",
    "        ax = fig.add_subplot(2,2,i+1)\n",
    "        plot_gmm_solution(ax, clf, iter)\n",
    "    return clf\n",
    "  \n",
    "clf = fitAndPlot(X, n_components=2, n_iter=1000)"
   ]
  },
  {
   "cell_type": "markdown",
   "id": "633ba83e",
   "metadata": {},
   "source": [
    "### Apply this to simulations"
   ]
  },
  {
   "cell_type": "code",
   "execution_count": null,
   "id": "2a1b963c",
   "metadata": {},
   "outputs": [],
   "source": []
  },
  {
   "cell_type": "code",
   "execution_count": 36,
   "id": "3704a4e6",
   "metadata": {},
   "outputs": [],
   "source": [
    "sim = pd.read_csv('../data/sample_xrb_positions_10M.csv.gz', header=None, names=['ra', 'dec', 'd_kpc', 'E(B-V)'])"
   ]
  },
  {
   "cell_type": "code",
   "execution_count": 37,
   "id": "b50c8340",
   "metadata": {},
   "outputs": [],
   "source": [
    "R_V = 3.1\n",
    "sim['distmod'] = 5 * np.log10(sim[\"d_kpc\"] * 1.e3) - 5.0  # Calculate distance modulus for all XRB\n",
    "sim['A_V'] = R_V * sim['E(B-V)']   # Calculate extinction  https://ned.ipac.caltech.edu/level5/Sept07/Li2/Li2.html\n",
    "sim['nH'] = 2.21 * 10 ** 21 * sim['A_V']   # column density in cm ** -2 https://arxiv.org/pdf/0903.2057.pdf"
   ]
  },
  {
   "cell_type": "code",
   "execution_count": 38,
   "id": "3089c081",
   "metadata": {},
   "outputs": [],
   "source": [
    "new_X, _ = clf.sample(len(sim))\n",
    "sim[['Lx', 'L_opt']] = new_X"
   ]
  },
  {
   "cell_type": "code",
   "execution_count": 39,
   "id": "d2a28d19",
   "metadata": {},
   "outputs": [],
   "source": [
    "mags = (10 ** sim['L_opt'].values * (u.erg/u.s) / \n",
    " (c * 200 * u.nm / (650 * u.nm)**2) /\n",
    " (4 * np.pi * (sim['d_kpc'].values*u.kpc)**2)\n",
    ").to(u.ABmag).value"
   ]
  },
  {
   "cell_type": "code",
   "execution_count": 40,
   "id": "f1375abf",
   "metadata": {},
   "outputs": [
    {
     "data": {
      "text/plain": [
       "array([ 8.3269629 , 13.60267293, 15.10538107, ..., 17.27461066,\n",
       "       16.46695415, 17.87266146])"
      ]
     },
     "execution_count": 40,
     "metadata": {},
     "output_type": "execute_result"
    }
   ],
   "source": [
    "mags"
   ]
  },
  {
   "cell_type": "code",
   "execution_count": 53,
   "id": "0e7d80a6",
   "metadata": {},
   "outputs": [],
   "source": [
    "sim['mag'] = mags"
   ]
  },
  {
   "cell_type": "code",
   "execution_count": 54,
   "id": "3ffe819e",
   "metadata": {},
   "outputs": [],
   "source": [
    "corr_mags = mags + sim['A_V'].values"
   ]
  },
  {
   "cell_type": "code",
   "execution_count": 55,
   "id": "f374e44a",
   "metadata": {
    "scrolled": true
   },
   "outputs": [
    {
     "data": {
      "text/plain": [
       "(array([1.500000e+02, 1.480700e+04, 3.981640e+05, 2.085110e+06,\n",
       "        3.559623e+06, 2.129835e+06, 1.410240e+06, 3.747280e+05,\n",
       "        2.719000e+04, 1.530000e+02]),\n",
       " array([-4.2456697 ,  1.30623291,  6.85813553, 12.41003814, 17.96194076,\n",
       "        23.51384337, 29.06574598, 34.6176486 , 40.16955121, 45.72145383,\n",
       "        51.27335644]),\n",
       " <a list of 10 Patch objects>)"
      ]
     },
     "execution_count": 55,
     "metadata": {},
     "output_type": "execute_result"
    },
    {
     "data": {
      "image/png": "[encoded data removed]",
      "text/plain": [
       "<Figure size 432x288 with 1 Axes>"
      ]
     },
     "metadata": {
      "needs_background": "light"
     },
     "output_type": "display_data"
    }
   ],
   "source": [
    "plt.hist(corr_mags)"
   ]
  },
  {
   "cell_type": "code",
   "execution_count": 58,
   "id": "aac30126",
   "metadata": {},
   "outputs": [
    {
     "data": {
      "text/plain": [
       "0.428629"
      ]
     },
     "execution_count": 58,
     "metadata": {},
     "output_type": "execute_result"
    }
   ],
   "source": [
    "np.mean(corr_mags < 20.5)"
   ]
  },
  {
   "cell_type": "markdown",
   "id": "2b649e9a",
   "metadata": {},
   "source": [
    "### X-ray flux"
   ]
  },
  {
   "cell_type": "code",
   "execution_count": 59,
   "id": "12918938",
   "metadata": {},
   "outputs": [],
   "source": [
    "flux = ((10 ** sim['Lx'].values * (u.erg/u.s)) / \n",
    "           (4 * np.pi * (sim['d_kpc'].values*u.kpc)**2)\n",
    "          ).to(u.erg/u.s/u.cm**2).value"
   ]
  },
  {
   "cell_type": "code",
   "execution_count": 60,
   "id": "ab9a4bae",
   "metadata": {},
   "outputs": [],
   "source": [
    "sim['flux_X'] = flux"
   ]
  },
  {
   "cell_type": "markdown",
   "id": "19990966",
   "metadata": {},
   "source": [
    "### optical flux"
   ]
  },
  {
   "cell_type": "code",
   "execution_count": null,
   "id": "c0e233dd",
   "metadata": {},
   "outputs": [],
   "source": [
    "sim['flux_opt'] = ((10 ** sim['Lopt'].values * (u.erg/u.s)) / \n",
    "           (4 * np.pi * (sim['d_kpc'].values*u.kpc)**2)\n",
    "          ).to(u.erg/u.s/u.cm**2).value"
   ]
  },
  {
   "cell_type": "code",
   "execution_count": null,
   "id": "62f1d4b7",
   "metadata": {},
   "outputs": [],
   "source": []
  },
  {
   "cell_type": "code",
   "execution_count": null,
   "id": "6a4beb09",
   "metadata": {},
   "outputs": [],
   "source": []
  },
  {
   "cell_type": "code",
   "execution_count": 166,
   "id": "3c68d093",
   "metadata": {},
   "outputs": [
    {
     "data": {
      "text/plain": [
       "(array([4.550000e+02, 3.854700e+04, 6.646900e+05, 2.307577e+06,\n",
       "        2.870615e+06, 3.889236e+06, 2.217600e+05, 6.808000e+03,\n",
       "        3.020000e+02, 1.000000e+01]),\n",
       " array([-13.55386213, -12.40903364, -11.26420515, -10.11937667,\n",
       "         -8.97454818,  -7.82971969,  -6.68489121,  -5.54006272,\n",
       "         -4.39523424,  -3.25040575,  -2.10557726]),\n",
       " <a list of 10 Patch objects>)"
      ]
     },
     "execution_count": 166,
     "metadata": {},
     "output_type": "execute_result"
    },
    {
     "data": {
      "image/png": "[encoded data removed]",
      "text/plain": [
       "<Figure size 432x288 with 1 Axes>"
      ]
     },
     "metadata": {
      "needs_background": "light"
     },
     "output_type": "display_data"
    }
   ],
   "source": [
    "plt.hist(np.log10(flux))"
   ]
  },
  {
   "cell_type": "markdown",
   "id": "d502d8b1",
   "metadata": {},
   "source": [
    "### Correct for extinction"
   ]
  },
  {
   "cell_type": "code",
   "execution_count": 91,
   "id": "15bd2aa4",
   "metadata": {},
   "outputs": [],
   "source": [
    "MAXI = pd.DataFrame([(1e-15, 0, 3.354e-8),\n",
    "(1e-15, 3e19, 3.353e-8),\n",
    "(1e-15, 3e20, 3.346e-8),\n",
    "(1e-15, 3e21, 3.276e-8),\n",
    "(1e-15, 1e22, 3.115e-8),\n",
    "(1e-15, 2e22, 2.919e-8),\n",
    "(1e-15, 3e22, 2.756e-8),\n",
    "(1e-15, 6e22, 2.390e-8),\n",
    "(1e-15, 1e23, 2.064e-8)\n",
    "], columns=['flux', 'nH', 'GSC'])\n",
    "\n",
    "MAXI['attn'] = MAXI['GSC']/ 3.354e-8"
   ]
  },
  {
   "cell_type": "code",
   "execution_count": 92,
   "id": "2be108ec",
   "metadata": {},
   "outputs": [],
   "source": [
    "class Interpolate():\n",
    "    \"\"\"Interpolates webPIMMs counts to get cps as a function of flux and nH\"\"\"\n",
    "    def __init__(self, WP_output):\n",
    "        self.data = WP_output\n",
    "\n",
    "        # use 1-d interpolation to fill in the extinction at each column density\n",
    "        self.attn_interp = interp1d(self.data['nH'], self.data['attn'], kind='quadratic')\n",
    "\n",
    "    def check_interp(self):\n",
    "        '''Plot the interpolation from self.cps_interp against the WebPIMMS output'''\n",
    "        fig, ax = plt.subplots()\n",
    "        ax.set_xscale(\"log\", nonposx='clip')\n",
    "        ax.set_yscale(\"log\")\n",
    "        self.data.plot(x='nH', y='attn', ax=ax)\n",
    "        xs = np.logspace(19, 23, 100)\n",
    "        ax.plot(xs, self.attn_interp(xs))\n",
    "        plt.ylabel('attn')\n",
    "        plt.show()\n",
    "        \n",
    "    def get_corr_flux(self, nH, flux):\n",
    "        '''Returns the expected counts/s accounting for extinction due to nH'''\n",
    "        return (self.attn_interp(nH) * flux).astype(float)"
   ]
  },
  {
   "cell_type": "code",
   "execution_count": 93,
   "id": "658d7c9a",
   "metadata": {},
   "outputs": [],
   "source": [
    "test = Interpolate(MAXI)"
   ]
  },
  {
   "cell_type": "code",
   "execution_count": 95,
   "id": "61575e31",
   "metadata": {},
   "outputs": [],
   "source": [
    "sim['corr_flux_X'] = test.get_corr_flux(sim['nH'], flux)"
   ]
  },
  {
   "cell_type": "code",
   "execution_count": 97,
   "id": "bb5aa932",
   "metadata": {},
   "outputs": [],
   "source": [
    "sim['log_corr_flux_X'] = np.log10(sim['corr_flux_X'])\n",
    "sim['corr_mag'] = corr_mags"
   ]
  },
  {
   "cell_type": "markdown",
   "id": "4db22967",
   "metadata": {},
   "source": [
    "### Corrected optical flux (r band)"
   ]
  },
  {
   "cell_type": "code",
   "execution_count": 99,
   "id": "d34fa545",
   "metadata": {},
   "outputs": [],
   "source": [
    "sim['corr_flux_opt'] = ((sim['corr_mag'].values * u.ABmag).to(u.Jy) * (c * 200*u.nm/(650*u.nm)**2)).to(u.erg/u.s/u.cm**2).value"
   ]
  },
  {
   "cell_type": "markdown",
   "id": "8d4e1bfa",
   "metadata": {},
   "source": [
    "### (spot check that the two distr aren't b/c of different filters)"
   ]
  },
  {
   "cell_type": "code",
   "execution_count": 73,
   "id": "09867c5e",
   "metadata": {
    "scrolled": true
   },
   "outputs": [
    {
     "data": {
      "text/plain": [
       "<matplotlib.axes._subplots.AxesSubplot at 0x7f6e9c0a8ad0>"
      ]
     },
     "execution_count": 73,
     "metadata": {},
     "output_type": "execute_result"
    },
    {
     "data": {
      "image/png": "[encoded data removed]",
      "text/plain": [
       "<Figure size 432x288 with 1 Axes>"
      ]
     },
     "metadata": {
      "needs_background": "light"
     },
     "output_type": "display_data"
    }
   ],
   "source": [
    "fig, ax = plt.subplots()\n",
    "# ax.set_xscale(\"log\", nonposx='clip')\n",
    "ax.set_yscale(\"log\")\n",
    "sim.sample(n=10000).plot.scatter(x='mag', y='flux_X', s=.1, ax=ax)\n",
    "data.loc[data['ob_band'] == 'V'].plot.scatter(x='ob_mag', y='fxpeak\\n[2-10] keV\\n[erg s-1 cm-2]', color='k', ax=ax)\n",
    "data.loc[~(data['ob_band'] == 'V')].plot.scatter(x='ob_mag', y='fxpeak\\n[2-10] keV\\n[erg s-1 cm-2]', color='r', ax=ax)"
   ]
  },
  {
   "cell_type": "code",
   "execution_count": 134,
   "id": "08ebdcc8",
   "metadata": {
    "scrolled": true
   },
   "outputs": [
    {
     "data": {
      "text/html": [
       "<div>\n",
       "<style scoped>\n",
       "    .dataframe tbody tr th:only-of-type {\n",
       "        vertical-align: middle;\n",
       "    }\n",
       "\n",
       "    .dataframe tbody tr th {\n",
       "        vertical-align: top;\n",
       "    }\n",
       "\n",
       "    .dataframe thead th {\n",
       "        text-align: right;\n",
       "    }\n",
       "</style>\n",
       "<table border=\"1\" class=\"dataframe\">\n",
       "  <thead>\n",
       "    <tr style=\"text-align: right;\">\n",
       "      <th></th>\n",
       "      <th>ID</th>\n",
       "      <th>Name \\n(Counterpart)</th>\n",
       "      <th>RA \\n[hh:mm:ss]</th>\n",
       "      <th>DEC \\n[dd:mm:ss]</th>\n",
       "      <th>ℓ\\n[deg]</th>\n",
       "      <th>b \\n[deg]</th>\n",
       "      <th>Magnitude\\nOutburst (AB)</th>\n",
       "      <th>Mag. \\nQuies. (AB)</th>\n",
       "      <th>d \\n[kpc]</th>\n",
       "      <th>fxpeak\\n[2-10] keV\\n[erg s-1 cm-2]</th>\n",
       "      <th>...</th>\n",
       "      <th>ob_mag_err</th>\n",
       "      <th>q_band</th>\n",
       "      <th>q_mag</th>\n",
       "      <th>q_mag_err</th>\n",
       "      <th>Name</th>\n",
       "      <th>ob_filter</th>\n",
       "      <th>q_filter</th>\n",
       "      <th>Lx</th>\n",
       "      <th>L_opt</th>\n",
       "      <th>corr_mag</th>\n",
       "    </tr>\n",
       "  </thead>\n",
       "  <tbody>\n",
       "    <tr>\n",
       "      <th>30</th>\n",
       "      <td>38</td>\n",
       "      <td>IGR J17098-3628</td>\n",
       "      <td>17:09:46</td>\n",
       "      <td>-36:27:57</td>\n",
       "      <td>349.553913</td>\n",
       "      <td>2.074516</td>\n",
       "      <td>V∼20.8</td>\n",
       "      <td>NaN</td>\n",
       "      <td>∼10.5</td>\n",
       "      <td>1.080000e-09</td>\n",
       "      <td>...</td>\n",
       "      <td>NaN</td>\n",
       "      <td>NaN</td>\n",
       "      <td>NaN</td>\n",
       "      <td>NaN</td>\n",
       "      <td>IGR J17098-3628</td>\n",
       "      <td>CTIO V</td>\n",
       "      <td>NaN</td>\n",
       "      <td>1.292215e+35</td>\n",
       "      <td>1.237444e+33</td>\n",
       "      <td>13.847</td>\n",
       "    </tr>\n",
       "    <tr>\n",
       "      <th>60</th>\n",
       "      <td>8</td>\n",
       "      <td>H 1743-322 \\nXTE J1746-322 = IGR J17464-3213</td>\n",
       "      <td>17:46:16</td>\n",
       "      <td>-32:14:01</td>\n",
       "      <td>357.255037</td>\n",
       "      <td>-1.832917</td>\n",
       "      <td>I=19.6</td>\n",
       "      <td>i'&gt;24</td>\n",
       "      <td>∼10</td>\n",
       "      <td>4.620000e-08</td>\n",
       "      <td>...</td>\n",
       "      <td>NaN</td>\n",
       "      <td>NaN</td>\n",
       "      <td>NaN</td>\n",
       "      <td>NaN</td>\n",
       "      <td>H 1743-322</td>\n",
       "      <td>CTIO I</td>\n",
       "      <td>NaN</td>\n",
       "      <td>5.527808e+36</td>\n",
       "      <td>1.560961e+33</td>\n",
       "      <td>12.786</td>\n",
       "    </tr>\n",
       "  </tbody>\n",
       "</table>\n",
       "<p>2 rows × 25 columns</p>\n",
       "</div>"
      ],
      "text/plain": [
       "    ID                          Name \\n(Counterpart) RA \\n[hh:mm:ss]  \\\n",
       "30  38                               IGR J17098-3628        17:09:46   \n",
       "60   8  H 1743-322 \\nXTE J1746-322 = IGR J17464-3213        17:46:16   \n",
       "\n",
       "   DEC \\n[dd:mm:ss]    ℓ\\n[deg]  b \\n[deg] Magnitude\\nOutburst (AB)  \\\n",
       "30        -36:27:57  349.553913   2.074516                   V∼20.8   \n",
       "60        -32:14:01  357.255037  -1.832917                   I=19.6   \n",
       "\n",
       "   Mag. \\nQuies. (AB) d \\n[kpc]  fxpeak\\n[2-10] keV\\n[erg s-1 cm-2]  ...  \\\n",
       "30                NaN     ∼10.5                        1.080000e-09  ...   \n",
       "60              i'>24       ∼10                        4.620000e-08  ...   \n",
       "\n",
       "   ob_mag_err  q_band  q_mag q_mag_err             Name  ob_filter q_filter  \\\n",
       "30        NaN     NaN    NaN       NaN  IGR J17098-3628     CTIO V      NaN   \n",
       "60        NaN     NaN    NaN       NaN       H 1743-322     CTIO I      NaN   \n",
       "\n",
       "              Lx         L_opt corr_mag  \n",
       "30  1.292215e+35  1.237444e+33   13.847  \n",
       "60  5.527808e+36  1.560961e+33   12.786  \n",
       "\n",
       "[2 rows x 25 columns]"
      ]
     },
     "execution_count": 134,
     "metadata": {},
     "output_type": "execute_result"
    }
   ],
   "source": [
    "df.query('ob_mag > 19')"
   ]
  },
  {
   "cell_type": "code",
   "execution_count": null,
   "id": "e800cc7d",
   "metadata": {},
   "outputs": [],
   "source": []
  },
  {
   "cell_type": "markdown",
   "id": "ef052010",
   "metadata": {},
   "source": [
    "### Get relative sensitivities"
   ]
  },
  {
   "cell_type": "code",
   "execution_count": 155,
   "id": "a39572ad",
   "metadata": {
    "scrolled": true
   },
   "outputs": [],
   "source": [
    "# sensitivity of survey\n",
    "MAXI_sens_full = 5.9e-12 * u.erg/u.s/u.cm**2\n",
    "MAXI_sens = 10 * 1.21e-11 * u.erg/u.s/u.cm**2 # 10 mC\n",
    "\n",
    "EP_sens = .1 * MAXI_sens\n",
    "\n",
    "ZTF_sens = ((20.5 * u.ABmag).to(u.Jy) * (c * 200*u.nm/(650*u.nm)**2)).to(u.erg/u.s/u.cm**2)\n",
    "LSST_sens = ((24.5 * u.ABmag).to(u.Jy) * (c * 200*u.nm/(650*u.nm)**2)).to(u.erg/u.s/u.cm**2)"
   ]
  },
  {
   "cell_type": "code",
   "execution_count": 147,
   "id": "dc2dcbc6",
   "metadata": {},
   "outputs": [],
   "source": [
    "relative_sens = MAXI_sens / ZTF_sens"
   ]
  },
  {
   "cell_type": "code",
   "execution_count": 148,
   "id": "008da914",
   "metadata": {},
   "outputs": [
    {
     "data": {
      "text/latex": [
       "$7443.7432 \\; \\mathrm{}$"
      ],
      "text/plain": [
       "<Quantity 7443.74317572>"
      ]
     },
     "execution_count": 148,
     "metadata": {},
     "output_type": "execute_result"
    }
   ],
   "source": [
    "relative_sens"
   ]
  },
  {
   "cell_type": "code",
   "execution_count": null,
   "id": "291c693f",
   "metadata": {},
   "outputs": [],
   "source": []
  },
  {
   "cell_type": "code",
   "execution_count": 132,
   "id": "4e737307",
   "metadata": {},
   "outputs": [
    {
     "data": {
      "text/latex": [
       "$1.2291667 \\times 10^{-10} \\; \\mathrm{\\frac{erg}{s\\,cm^{2}}}$"
      ],
      "text/plain": [
       "<Quantity 1.22916667e-10 erg / (cm2 s)>"
      ]
     },
     "execution_count": 132,
     "metadata": {},
     "output_type": "execute_result"
    }
   ],
   "source": [
    "MAXI_sens"
   ]
  },
  {
   "cell_type": "markdown",
   "id": "55b402d4",
   "metadata": {},
   "source": [
    "### Calculate relative fluxes"
   ]
  },
  {
   "cell_type": "code",
   "execution_count": 136,
   "id": "d00dd292",
   "metadata": {},
   "outputs": [],
   "source": [
    "# relative_flux = sim['corr_flux_X'] / sim['corr_flux_opt']"
   ]
  },
  {
   "cell_type": "code",
   "execution_count": 149,
   "id": "4a686d34",
   "metadata": {},
   "outputs": [
    {
     "data": {
      "text/plain": [
       "Text(0.5, 1.0, 'Relative Flux of and Sensitivity to LMXB Outbursts')"
      ]
     },
     "execution_count": 149,
     "metadata": {},
     "output_type": "execute_result"
    },
    {
     "data": {
      "image/png": "[encoded data removed]",
      "text/plain": [
       "<Figure size 432x288 with 1 Axes>"
      ]
     },
     "metadata": {
      "needs_background": "light"
     },
     "output_type": "display_data"
    }
   ],
   "source": [
    "plt.hist(np.log10(relative_flux), density=True, bins='fd')\n",
    "plt.xlabel(r'Log($_{10}Flux_{X-ray}/Flux_{opt}$)')\n",
    "plt.axvline(np.log10(relative_sens), color='k', ls='--', label='MAXI:ZTF')\n",
    "plt.axvline(np.log10(EP_sens / ZTF_sens), color='k', ls=':', label='EP:ZTF')\n",
    "plt.axvline(np.log10(EP_sens / LSST_sens), color='k', ls='-', label='EP:LSST')\n",
    "\n",
    "plt.legend()\n",
    "plt.title('Relative Flux of and Sensitivity to LMXB Outbursts')\n",
    "# plt.savefig()"
   ]
  },
  {
   "cell_type": "markdown",
   "id": "41344ba6",
   "metadata": {},
   "source": [
    "67\\% of LMXBs first detectable by ZTF than MAXI"
   ]
  },
  {
   "cell_type": "code",
   "execution_count": 156,
   "id": "2dad3383",
   "metadata": {},
   "outputs": [
    {
     "data": {
      "text/plain": [
       "0.2113095"
      ]
     },
     "execution_count": 156,
     "metadata": {},
     "output_type": "execute_result"
    }
   ],
   "source": [
    "(relative_flux < relative_sens).mean()"
   ]
  },
  {
   "cell_type": "markdown",
   "id": "1d9af26c",
   "metadata": {},
   "source": [
    "56\\% of LMXBs first detectable by ZTF than Einstein Probe"
   ]
  },
  {
   "cell_type": "markdown",
   "id": "487e821d",
   "metadata": {},
   "source": [
    "$1.7\\times10^{33}\\mathrm{\\,ergs\\,s^{-1}\\,cm^{2}}$"
   ]
  },
  {
   "cell_type": "code",
   "execution_count": 157,
   "id": "33b1dc27",
   "metadata": {},
   "outputs": [
    {
     "data": {
      "text/plain": [
       "0.0334968"
      ]
     },
     "execution_count": 157,
     "metadata": {},
     "output_type": "execute_result"
    }
   ],
   "source": [
    "\n",
    "(relative_flux < (EP_sens / ZTF_sens)).mean()"
   ]
  },
  {
   "cell_type": "markdown",
   "id": "a896ccd8",
   "metadata": {},
   "source": [
    "73\\% of LMXBs first detectable by ZTF than MAXI"
   ]
  },
  {
   "cell_type": "code",
   "execution_count": 159,
   "id": "b7fd91e2",
   "metadata": {},
   "outputs": [
    {
     "data": {
      "text/plain": [
       "0.270073"
      ]
     },
     "execution_count": 159,
     "metadata": {},
     "output_type": "execute_result"
    }
   ],
   "source": [
    "(relative_flux < (EP_sens / LSST_sens)).mean()"
   ]
  },
  {
   "cell_type": "code",
   "execution_count": null,
   "id": "79705daa",
   "metadata": {},
   "outputs": [],
   "source": []
  },
  {
   "cell_type": "code",
   "execution_count": 31,
   "id": "8d966eaf",
   "metadata": {
    "scrolled": false
   },
   "outputs": [
    {
     "data": {
      "text/plain": [
       "7468.460369332337"
      ]
     },
     "execution_count": 31,
     "metadata": {},
     "output_type": "execute_result"
    }
   ],
   "source": [
    "np.nanmean((Lx / L_opt))"
   ]
  },
  {
   "cell_type": "markdown",
   "id": "5b664f76",
   "metadata": {},
   "source": [
    "# Absolute mags"
   ]
  },
  {
   "cell_type": "code",
   "execution_count": 78,
   "id": "a0acba24",
   "metadata": {},
   "outputs": [
    {
     "name": "stderr",
     "output_type": "stream",
     "text": [
      "/epyc/opt/anaconda/lib/python3.7/site-packages/ipykernel_launcher.py:1: SettingWithCopyWarning: \n",
      "A value is trying to be set on a copy of a slice from a DataFrame.\n",
      "Try using .loc[row_indexer,col_indexer] = value instead\n",
      "\n",
      "See the caveats in the documentation: https://pandas.pydata.org/pandas-docs/stable/user_guide/indexing.html#returning-a-view-versus-a-copy\n",
      "  \"\"\"Entry point for launching an IPython kernel.\n"
     ]
    }
   ],
   "source": [
    "data['dm'] = 5 * np.log10(data[\"d\"] * 1e3) - 5.0"
   ]
  },
  {
   "cell_type": "code",
   "execution_count": 85,
   "id": "cbb19178",
   "metadata": {},
   "outputs": [
    {
     "data": {
      "text/plain": [
       "-0.5379971629980788"
      ]
     },
     "execution_count": 85,
     "metadata": {},
     "output_type": "execute_result"
    }
   ],
   "source": [
    "(data['corr_mag'] - data['dm']).mean()"
   ]
  },
  {
   "cell_type": "code",
   "execution_count": null,
   "id": "02e41ba8",
   "metadata": {},
   "outputs": [],
   "source": []
  }
 ],
 "metadata": {
  "kernelspec": {
   "display_name": "Python 3",
   "language": "python",
   "name": "python3"
  },
  "language_info": {
   "codemirror_mode": {
    "name": "ipython",
    "version": 3
   },
   "file_extension": ".py",
   "mimetype": "text/x-python",
   "name": "python",
   "nbconvert_exporter": "python",
   "pygments_lexer": "ipython3",
   "version": "3.7.6"
  }
 },
 "nbformat": 4,
 "nbformat_minor": 5
}
